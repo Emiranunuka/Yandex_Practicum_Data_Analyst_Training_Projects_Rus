{
 "cells": [
  {
   "cell_type": "markdown",
   "metadata": {
    "toc": true
   },
   "source": [
    "<h1>Анализ A/B теста по метрикам конверсии и среднего чека<span class=\"tocSkip\"></span></h1>\n",
    "<div class=\"toc\"><ul class=\"toc-item\"><li><span><a href=\"#Описание-проекта-и-постановка-задач\" data-toc-modified-id=\"Описание-проекта-и-постановка-задач-1\"><span class=\"toc-item-num\">1&nbsp;&nbsp;</span>Описание проекта и постановка задач</a></span></li><li><span><a href=\"#Импорт-библиотек\" data-toc-modified-id=\"Импорт-библиотек-2\"><span class=\"toc-item-num\">2&nbsp;&nbsp;</span>Импорт библиотек</a></span></li><li><span><a href=\"#Загрузка-и-изучение-данных,-подготовка-их-к-анализу\" data-toc-modified-id=\"Загрузка-и-изучение-данных,-подготовка-их-к-анализу-3\"><span class=\"toc-item-num\">3&nbsp;&nbsp;</span>Загрузка и изучение данных, подготовка их к анализу</a></span><ul class=\"toc-item\"><li><span><a href=\"#Датафрейм-orders\" data-toc-modified-id=\"Датафрейм-orders-3.1\"><span class=\"toc-item-num\">3.1&nbsp;&nbsp;</span>Датафрейм <code>orders</code></a></span><ul class=\"toc-item\"><li><span><a href=\"#Корректность-разбивки-пользователей-на-группы-теста\" data-toc-modified-id=\"Корректность-разбивки-пользователей-на-группы-теста-3.1.1\"><span class=\"toc-item-num\">3.1.1&nbsp;&nbsp;</span>Корректность разбивки пользователей на группы теста</a></span></li><li><span><a href=\"#Баг-репорт-менеджеру-продукта:\" data-toc-modified-id=\"Баг-репорт-менеджеру-продукта:-3.1.2\"><span class=\"toc-item-num\">3.1.2&nbsp;&nbsp;</span>Баг-репорт менеджеру продукта:</a></span></li><li><span><a href=\"#Выводы-по-изчению-датафрейма-orders-и-подготовке-данных-к-анализу\" data-toc-modified-id=\"Выводы-по-изчению-датафрейма-orders-и-подготовке-данных-к-анализу-3.1.3\"><span class=\"toc-item-num\">3.1.3&nbsp;&nbsp;</span>Выводы по изчению датафрейма <code>orders</code> и подготовке данных к анализу</a></span></li></ul></li><li><span><a href=\"#Датафрейм-visitors\" data-toc-modified-id=\"Датафрейм-visitors-3.2\"><span class=\"toc-item-num\">3.2&nbsp;&nbsp;</span>Датафрейм <code>visitors</code></a></span><ul class=\"toc-item\"><li><span><a href=\"#Выводы-по-изчению-датафрейма-visitors-и-подготовке-данных-к-анализу\" data-toc-modified-id=\"Выводы-по-изчению-датафрейма-visitors-и-подготовке-данных-к-анализу-3.2.1\"><span class=\"toc-item-num\">3.2.1&nbsp;&nbsp;</span>Выводы по изчению датафрейма <code>visitors</code> и подготовке данных к анализу</a></span></li></ul></li><li><span><a href=\"#Подготовка-сводной-таблицы-data-по-дневным-и-кумулятивным-показателям-групп\" data-toc-modified-id=\"Подготовка-сводной-таблицы-data-по-дневным-и-кумулятивным-показателям-групп-3.3\"><span class=\"toc-item-num\">3.3&nbsp;&nbsp;</span>Подготовка сводной таблицы <code>data</code> по дневным и кумулятивным показателям групп</a></span></li></ul></li><li><span><a href=\"#Анализ-кумулятивных-метрик-по-группам\" data-toc-modified-id=\"Анализ-кумулятивных-метрик-по-группам-4\"><span class=\"toc-item-num\">4&nbsp;&nbsp;</span>Анализ кумулятивных метрик по группам</a></span><ul class=\"toc-item\"><li><span><a href=\"#Выручка\" data-toc-modified-id=\"Выручка-4.1\"><span class=\"toc-item-num\">4.1&nbsp;&nbsp;</span>Выручка</a></span></li><li><span><a href=\"#Конверсия\" data-toc-modified-id=\"Конверсия-4.2\"><span class=\"toc-item-num\">4.2&nbsp;&nbsp;</span>Конверсия</a></span></li><li><span><a href=\"#Средний-чек\" data-toc-modified-id=\"Средний-чек-4.3\"><span class=\"toc-item-num\">4.3&nbsp;&nbsp;</span>Средний чек</a></span></li></ul></li><li><span><a href=\"#Анализ-выбросов\" data-toc-modified-id=\"Анализ-выбросов-5\"><span class=\"toc-item-num\">5&nbsp;&nbsp;</span>Анализ выбросов</a></span><ul class=\"toc-item\"><li><span><a href=\"#Количество-заказов-на-покупателя\" data-toc-modified-id=\"Количество-заказов-на-покупателя-5.1\"><span class=\"toc-item-num\">5.1&nbsp;&nbsp;</span>Количество заказов на покупателя</a></span></li><li><span><a href=\"#Стоимость-заказа\" data-toc-modified-id=\"Стоимость-заказа-5.2\"><span class=\"toc-item-num\">5.2&nbsp;&nbsp;</span>Стоимость заказа</a></span></li></ul></li><li><span><a href=\"#Статзначимость-различий-по-&quot;сырым&quot;-данным\" data-toc-modified-id=\"Статзначимость-различий-по-&quot;сырым&quot;-данным-6\"><span class=\"toc-item-num\">6&nbsp;&nbsp;</span>Статзначимость различий по \"сырым\" данным</a></span><ul class=\"toc-item\"><li><span><a href=\"#Различия-в-конверсии\" data-toc-modified-id=\"Различия-в-конверсии-6.1\"><span class=\"toc-item-num\">6.1&nbsp;&nbsp;</span>Различия в конверсии</a></span><ul class=\"toc-item\"><li><span><a href=\"#Проверка-на-нормальность-распределения-конверсий\" data-toc-modified-id=\"Проверка-на-нормальность-распределения-конверсий-6.1.1\"><span class=\"toc-item-num\">6.1.1&nbsp;&nbsp;</span>Проверка на нормальность распределения конверсий</a></span></li><li><span><a href=\"#Проверка-значимости-z-тестом\" data-toc-modified-id=\"Проверка-значимости-z-тестом-6.1.2\"><span class=\"toc-item-num\">6.1.2&nbsp;&nbsp;</span>Проверка значимости z-тестом</a></span></li><li><span><a href=\"#Относительный-прирост-конверсии-группы-B-относительно-конверсии-группы-А\" data-toc-modified-id=\"Относительный-прирост-конверсии-группы-B-относительно-конверсии-группы-А-6.1.3\"><span class=\"toc-item-num\">6.1.3&nbsp;&nbsp;</span>Относительный прирост конверсии группы B относительно конверсии группы А</a></span></li></ul></li><li><span><a href=\"#Различия-в-чеке\" data-toc-modified-id=\"Различия-в-чеке-6.2\"><span class=\"toc-item-num\">6.2&nbsp;&nbsp;</span>Различия в чеке</a></span><ul class=\"toc-item\"><li><span><a href=\"#Проверка-на-нормальность-распределения-чеков\" data-toc-modified-id=\"Проверка-на-нормальность-распределения-чеков-6.2.1\"><span class=\"toc-item-num\">6.2.1&nbsp;&nbsp;</span>Проверка на нормальность распределения чеков</a></span></li><li><span><a href=\"#Проверка-значимости-тестом-Манна-Уитни\" data-toc-modified-id=\"Проверка-значимости-тестом-Манна-Уитни-6.2.2\"><span class=\"toc-item-num\">6.2.2&nbsp;&nbsp;</span>Проверка значимости тестом Манна-Уитни</a></span></li><li><span><a href=\"#Относительный-прирост-среднего-чека-группы-B-относительно-среднего-чека-группы-А\" data-toc-modified-id=\"Относительный-прирост-среднего-чека-группы-B-относительно-среднего-чека-группы-А-6.2.3\"><span class=\"toc-item-num\">6.2.3&nbsp;&nbsp;</span>Относительный прирост среднего чека группы B относительно среднего чека группы А</a></span></li></ul></li><li><span><a href=\"#Различия-в-среднедневном-чеке-(факультативно)\" data-toc-modified-id=\"Различия-в-среднедневном-чеке-(факультативно)-6.3\"><span class=\"toc-item-num\">6.3&nbsp;&nbsp;</span>Различия в среднедневном чеке (<em>факультативно</em>)</a></span><ul class=\"toc-item\"><li><span><a href=\"#Проверка-на-нормальность-распределения-среднедневных-чеков\" data-toc-modified-id=\"Проверка-на-нормальность-распределения-среднедневных-чеков-6.3.1\"><span class=\"toc-item-num\">6.3.1&nbsp;&nbsp;</span>Проверка на нормальность распределения среднедневных чеков</a></span></li><li><span><a href=\"#Проверка-значимости-тестом-Манна-Уитни\" data-toc-modified-id=\"Проверка-значимости-тестом-Манна-Уитни-6.3.2\"><span class=\"toc-item-num\">6.3.2&nbsp;&nbsp;</span>Проверка значимости тестом Манна-Уитни</a></span></li><li><span><a href=\"#Относительный-прирост-среднего-среднедневного-чека-группы-B-относительно-среднего-среднедневного-чека-группы-А\" data-toc-modified-id=\"Относительный-прирост-среднего-среднедневного-чека-группы-B-относительно-среднего-среднедневного-чека-группы-А-6.3.3\"><span class=\"toc-item-num\">6.3.3&nbsp;&nbsp;</span>Относительный прирост среднего среднедневного чека группы B относительно среднего среднедневного чека группы А</a></span></li></ul></li></ul></li><li><span><a href=\"#Стат.значимость-различий-по-&quot;очищенным&quot;-данным\" data-toc-modified-id=\"Стат.значимость-различий-по-&quot;очищенным&quot;-данным-7\"><span class=\"toc-item-num\">7&nbsp;&nbsp;</span>Стат.значимость различий по \"очищенным\" данным</a></span><ul class=\"toc-item\"><li><span><a href=\"#Удаление-выбросов:-data_cut\" data-toc-modified-id=\"Удаление-выбросов:-data_cut-7.1\"><span class=\"toc-item-num\">7.1&nbsp;&nbsp;</span>Удаление выбросов: <code>data_cut</code></a></span></li><li><span><a href=\"#Различия-в-конверсии:-проверка-значимости-z-тестом\" data-toc-modified-id=\"Различия-в-конверсии:-проверка-значимости-z-тестом-7.2\"><span class=\"toc-item-num\">7.2&nbsp;&nbsp;</span>Различия в конверсии: проверка значимости z-тестом</a></span></li><li><span><a href=\"#Различия-в-чеке\" data-toc-modified-id=\"Различия-в-чеке-7.3\"><span class=\"toc-item-num\">7.3&nbsp;&nbsp;</span>Различия в чеке</a></span><ul class=\"toc-item\"><li><span><a href=\"#Проверка-на-нормальность-распределения-чеков\" data-toc-modified-id=\"Проверка-на-нормальность-распределения-чеков-7.3.1\"><span class=\"toc-item-num\">7.3.1&nbsp;&nbsp;</span>Проверка на нормальность распределения чеков</a></span></li><li><span><a href=\"#Проверка-значимости-тестом-Манна-Уитни\" data-toc-modified-id=\"Проверка-значимости-тестом-Манна-Уитни-7.3.2\"><span class=\"toc-item-num\">7.3.2&nbsp;&nbsp;</span>Проверка значимости тестом Манна-Уитни</a></span></li><li><span><a href=\"#Относительный-прирост-среднего-чека-группы-B-относительно-среднего-чека-группы-А\" data-toc-modified-id=\"Относительный-прирост-среднего-чека-группы-B-относительно-среднего-чека-группы-А-7.3.3\"><span class=\"toc-item-num\">7.3.3&nbsp;&nbsp;</span>Относительный прирост среднего чека группы B относительно среднего чека группы А</a></span></li></ul></li><li><span><a href=\"#Различия-в-среднедневном-чеке-(факультативно)\" data-toc-modified-id=\"Различия-в-среднедневном-чеке-(факультативно)-7.4\"><span class=\"toc-item-num\">7.4&nbsp;&nbsp;</span>Различия в среднедневном чеке (<em>факультативно</em>)</a></span><ul class=\"toc-item\"><li><span><a href=\"#Проверка-на-нормальность-распределения-среднедневных-чеков\" data-toc-modified-id=\"Проверка-на-нормальность-распределения-среднедневных-чеков-7.4.1\"><span class=\"toc-item-num\">7.4.1&nbsp;&nbsp;</span>Проверка на нормальность распределения среднедневных чеков</a></span></li><li><span><a href=\"#Проверка-значимости-t-тестом\" data-toc-modified-id=\"Проверка-значимости-t-тестом-7.4.2\"><span class=\"toc-item-num\">7.4.2&nbsp;&nbsp;</span>Проверка значимости t-тестом</a></span></li><li><span><a href=\"#Относительный-прирост-среднего-от-среднедневного-чека-группы-B-относительно-среднего-от-среднедневного-чека-группы-А\" data-toc-modified-id=\"Относительный-прирост-среднего-от-среднедневного-чека-группы-B-относительно-среднего-от-среднедневного-чека-группы-А-7.4.3\"><span class=\"toc-item-num\">7.4.3&nbsp;&nbsp;</span>Относительный прирост среднего от среднедневного чека группы B относительно среднего от среднедневного чека группы А</a></span></li></ul></li><li><span><a href=\"#Выводы-по-анализу-А/В-теста\" data-toc-modified-id=\"Выводы-по-анализу-А/В-теста-7.5\"><span class=\"toc-item-num\">7.5&nbsp;&nbsp;</span>Выводы по анализу А/В теста</a></span></li></ul></li></ul></div>"
   ]
  },
  {
   "cell_type": "markdown",
   "metadata": {},
   "source": [
    "## Описание проекта и постановка задач"
   ]
  },
  {
   "cell_type": "markdown",
   "metadata": {},
   "source": [
    "В крупном интернет-магазине проведен A/B-тест и получены результаты, которые описаны в датафреймах `orders` и `visitors`. \n",
    "\n",
    "Задача: проанализировать результаты теста, объяснить его и принять одно из решений: \n",
    "1. Остановить тест, зафиксировать победу одной из групп. \n",
    "2. Остановить тест, зафиксировать отсутствие различий между группами. \n",
    "3. Продолжить тест."
   ]
  },
  {
   "cell_type": "markdown",
   "metadata": {},
   "source": [
    "## Импорт библиотек"
   ]
  },
  {
   "cell_type": "code",
   "execution_count": 1,
   "metadata": {},
   "outputs": [],
   "source": [
    "import pandas as pd\n",
    "\n",
    "import numpy as np\n",
    "\n",
    "import math as mth\n",
    "\n",
    "from scipy import stats as st\n",
    "from statsmodels.stats.proportion import proportions_ztest\n",
    "\n",
    "import matplotlib.pyplot as plt\n",
    "from pandas.plotting import register_matplotlib_converters\n",
    "register_matplotlib_converters()\n",
    "\n",
    "from datetime import date, time, timedelta\n",
    "\n",
    "import warnings\n",
    "warnings.filterwarnings(\"ignore\")\n",
    "\n",
    "pd.options.display.max_columns = 100"
   ]
  },
  {
   "cell_type": "markdown",
   "metadata": {},
   "source": [
    "## Загрузка и изучение данных, подготовка их к анализу"
   ]
  },
  {
   "cell_type": "markdown",
   "metadata": {},
   "source": [
    "### Датафрейм `orders`"
   ]
  },
  {
   "cell_type": "code",
   "execution_count": 2,
   "metadata": {},
   "outputs": [
    {
     "data": {
      "text/html": [
       "<div>\n",
       "<style scoped>\n",
       "    .dataframe tbody tr th:only-of-type {\n",
       "        vertical-align: middle;\n",
       "    }\n",
       "\n",
       "    .dataframe tbody tr th {\n",
       "        vertical-align: top;\n",
       "    }\n",
       "\n",
       "    .dataframe thead th {\n",
       "        text-align: right;\n",
       "    }\n",
       "</style>\n",
       "<table border=\"1\" class=\"dataframe\">\n",
       "  <thead>\n",
       "    <tr style=\"text-align: right;\">\n",
       "      <th></th>\n",
       "      <th>transactionId</th>\n",
       "      <th>visitorId</th>\n",
       "      <th>date</th>\n",
       "      <th>revenue</th>\n",
       "      <th>group</th>\n",
       "    </tr>\n",
       "  </thead>\n",
       "  <tbody>\n",
       "    <tr>\n",
       "      <th>103</th>\n",
       "      <td>2951399376</td>\n",
       "      <td>2019355024</td>\n",
       "      <td>2019-08-01</td>\n",
       "      <td>2550</td>\n",
       "      <td>B</td>\n",
       "    </tr>\n",
       "  </tbody>\n",
       "</table>\n",
       "</div>"
      ],
      "text/plain": [
       "     transactionId   visitorId        date  revenue group\n",
       "103     2951399376  2019355024  2019-08-01     2550     B"
      ]
     },
     "execution_count": 2,
     "metadata": {},
     "output_type": "execute_result"
    }
   ],
   "source": [
    "orders = pd.read_csv('orders.csv')\n",
    "orders.sample()"
   ]
  },
  {
   "cell_type": "markdown",
   "metadata": {},
   "source": [
    "Рассмотрим датафрейм `orders` со столбцами:\n",
    "* transactionId — идентификатор заказа;\n",
    "* visitorId — идентификатор пользователя, совершившего заказ;\n",
    "* date — дата, когда был совершён заказ;\n",
    "* revenue — выручка заказа;\n",
    "* group — группа A/B-теста, в которую попал заказ."
   ]
  },
  {
   "cell_type": "code",
   "execution_count": 3,
   "metadata": {},
   "outputs": [
    {
     "name": "stdout",
     "output_type": "stream",
     "text": [
      "<class 'pandas.core.frame.DataFrame'>\n",
      "RangeIndex: 1197 entries, 0 to 1196\n",
      "Data columns (total 5 columns):\n",
      " #   Column         Non-Null Count  Dtype \n",
      "---  ------         --------------  ----- \n",
      " 0   transactionId  1197 non-null   int64 \n",
      " 1   visitorId      1197 non-null   int64 \n",
      " 2   date           1197 non-null   object\n",
      " 3   revenue        1197 non-null   int64 \n",
      " 4   group          1197 non-null   object\n",
      "dtypes: int64(3), object(2)\n",
      "memory usage: 46.9+ KB\n"
     ]
    }
   ],
   "source": [
    "orders.info()"
   ]
  },
  {
   "cell_type": "markdown",
   "metadata": {},
   "source": [
    "Придерживаемся правил хорошего пиТона  - поменяем camelCase на snake_case. Приведем колонку `date` к формату `datetime`."
   ]
  },
  {
   "cell_type": "code",
   "execution_count": 4,
   "metadata": {},
   "outputs": [
    {
     "data": {
      "text/html": [
       "<div>\n",
       "<style scoped>\n",
       "    .dataframe tbody tr th:only-of-type {\n",
       "        vertical-align: middle;\n",
       "    }\n",
       "\n",
       "    .dataframe tbody tr th {\n",
       "        vertical-align: top;\n",
       "    }\n",
       "\n",
       "    .dataframe thead th {\n",
       "        text-align: right;\n",
       "    }\n",
       "</style>\n",
       "<table border=\"1\" class=\"dataframe\">\n",
       "  <thead>\n",
       "    <tr style=\"text-align: right;\">\n",
       "      <th></th>\n",
       "      <th>transaction_id</th>\n",
       "      <th>visitor_id</th>\n",
       "      <th>date</th>\n",
       "      <th>revenue</th>\n",
       "      <th>group</th>\n",
       "    </tr>\n",
       "  </thead>\n",
       "  <tbody>\n",
       "    <tr>\n",
       "      <th>263</th>\n",
       "      <td>2575861846</td>\n",
       "      <td>4256040402</td>\n",
       "      <td>2019-08-18</td>\n",
       "      <td>10970</td>\n",
       "      <td>B</td>\n",
       "    </tr>\n",
       "    <tr>\n",
       "      <th>647</th>\n",
       "      <td>2180201337</td>\n",
       "      <td>1728743776</td>\n",
       "      <td>2019-08-26</td>\n",
       "      <td>9490</td>\n",
       "      <td>B</td>\n",
       "    </tr>\n",
       "    <tr>\n",
       "      <th>833</th>\n",
       "      <td>1636454846</td>\n",
       "      <td>4237561104</td>\n",
       "      <td>2019-08-30</td>\n",
       "      <td>590</td>\n",
       "      <td>A</td>\n",
       "    </tr>\n",
       "    <tr>\n",
       "      <th>383</th>\n",
       "      <td>3533599275</td>\n",
       "      <td>4018812886</td>\n",
       "      <td>2019-08-03</td>\n",
       "      <td>1490</td>\n",
       "      <td>B</td>\n",
       "    </tr>\n",
       "    <tr>\n",
       "      <th>77</th>\n",
       "      <td>2619374735</td>\n",
       "      <td>787824685</td>\n",
       "      <td>2019-08-16</td>\n",
       "      <td>32350</td>\n",
       "      <td>A</td>\n",
       "    </tr>\n",
       "  </tbody>\n",
       "</table>\n",
       "</div>"
      ],
      "text/plain": [
       "     transaction_id  visitor_id       date  revenue group\n",
       "263      2575861846  4256040402 2019-08-18    10970     B\n",
       "647      2180201337  1728743776 2019-08-26     9490     B\n",
       "833      1636454846  4237561104 2019-08-30      590     A\n",
       "383      3533599275  4018812886 2019-08-03     1490     B\n",
       "77       2619374735   787824685 2019-08-16    32350     A"
      ]
     },
     "execution_count": 4,
     "metadata": {},
     "output_type": "execute_result"
    }
   ],
   "source": [
    "orders.set_axis(['transaction_id', 'visitor_id', 'date', 'revenue', 'group'], axis = 'columns', inplace = True)\n",
    "orders['date'] = pd.to_datetime(orders['date'])\n",
    "orders.sample(5)"
   ]
  },
  {
   "cell_type": "code",
   "execution_count": 5,
   "metadata": {},
   "outputs": [
    {
     "data": {
      "text/plain": [
       "Timestamp('2019-08-01 00:00:00')"
      ]
     },
     "execution_count": 5,
     "metadata": {},
     "output_type": "execute_result"
    }
   ],
   "source": [
    "orders['date'].min()"
   ]
  },
  {
   "cell_type": "code",
   "execution_count": 6,
   "metadata": {},
   "outputs": [
    {
     "data": {
      "text/plain": [
       "Timestamp('2019-08-31 00:00:00')"
      ]
     },
     "execution_count": 6,
     "metadata": {},
     "output_type": "execute_result"
    }
   ],
   "source": [
    "orders['date'].max()"
   ]
  },
  {
   "cell_type": "markdown",
   "metadata": {},
   "source": [
    "Проверим дубликаты в номерах транзакций."
   ]
  },
  {
   "cell_type": "code",
   "execution_count": 7,
   "metadata": {},
   "outputs": [
    {
     "data": {
      "text/plain": [
       "nunique    1197\n",
       "count      1197\n",
       "Name: transaction_id, dtype: int64"
      ]
     },
     "execution_count": 7,
     "metadata": {},
     "output_type": "execute_result"
    }
   ],
   "source": [
    "orders['transaction_id'].agg(['nunique', 'count'])"
   ]
  },
  {
   "cell_type": "markdown",
   "metadata": {},
   "source": [
    "Дубликаты в номерах транзакций не обнаружены."
   ]
  },
  {
   "cell_type": "markdown",
   "metadata": {},
   "source": [
    "####  Корректность разбивки пользователей на группы теста"
   ]
  },
  {
   "cell_type": "markdown",
   "metadata": {},
   "source": [
    "Число уникальных пользователей в датафрейме `orders`:"
   ]
  },
  {
   "cell_type": "code",
   "execution_count": 8,
   "metadata": {},
   "outputs": [
    {
     "data": {
      "text/plain": [
       "1031"
      ]
     },
     "execution_count": 8,
     "metadata": {},
     "output_type": "execute_result"
    }
   ],
   "source": [
    "orders['visitor_id'].nunique()"
   ]
  },
  {
   "cell_type": "markdown",
   "metadata": {},
   "source": [
    "Не совпадает с длиной датафрейма, пользователи могли делать несколько транзакций. Сколько уникальных пользователей в каждой группе и сколько всего записей в каждой группе:"
   ]
  },
  {
   "cell_type": "code",
   "execution_count": 9,
   "metadata": {},
   "outputs": [
    {
     "data": {
      "text/html": [
       "<div>\n",
       "<style scoped>\n",
       "    .dataframe tbody tr th:only-of-type {\n",
       "        vertical-align: middle;\n",
       "    }\n",
       "\n",
       "    .dataframe tbody tr th {\n",
       "        vertical-align: top;\n",
       "    }\n",
       "\n",
       "    .dataframe thead th {\n",
       "        text-align: right;\n",
       "    }\n",
       "</style>\n",
       "<table border=\"1\" class=\"dataframe\">\n",
       "  <thead>\n",
       "    <tr style=\"text-align: right;\">\n",
       "      <th></th>\n",
       "      <th>group</th>\n",
       "      <th>visitor_id_nunique</th>\n",
       "      <th>orders</th>\n",
       "    </tr>\n",
       "  </thead>\n",
       "  <tbody>\n",
       "    <tr>\n",
       "      <th>0</th>\n",
       "      <td>A</td>\n",
       "      <td>503</td>\n",
       "      <td>557</td>\n",
       "    </tr>\n",
       "    <tr>\n",
       "      <th>1</th>\n",
       "      <td>B</td>\n",
       "      <td>586</td>\n",
       "      <td>640</td>\n",
       "    </tr>\n",
       "  </tbody>\n",
       "</table>\n",
       "</div>"
      ],
      "text/plain": [
       "  group  visitor_id_nunique  orders\n",
       "0     A                 503     557\n",
       "1     B                 586     640"
      ]
     },
     "execution_count": 9,
     "metadata": {},
     "output_type": "execute_result"
    }
   ],
   "source": [
    "records_by_groups = orders.groupby(['group'], as_index=False)[['visitor_id']].agg(['nunique','count']).reset_index()\n",
    "records_by_groups.columns = records_by_groups.columns.droplevel(level=1)\n",
    "records_by_groups.set_axis(['group', 'visitor_id_nunique', 'orders'], axis = 'columns', inplace = True)\n",
    "records_by_groups.set_index('group')\n",
    "records_by_groups"
   ]
  },
  {
   "cell_type": "markdown",
   "metadata": {},
   "source": [
    "Складываем число уникальных пользователей из группы А и группы В:"
   ]
  },
  {
   "cell_type": "code",
   "execution_count": 10,
   "metadata": {},
   "outputs": [
    {
     "data": {
      "text/plain": [
       "1089"
      ]
     },
     "execution_count": 10,
     "metadata": {},
     "output_type": "execute_result"
    }
   ],
   "source": [
    "records_by_groups['visitor_id_nunique'].sum()"
   ]
  },
  {
   "cell_type": "markdown",
   "metadata": {},
   "source": [
    "Сумма уникальных пользователей из каждой группы превышает число уникальных пользователей в датафрейме.\n",
    "\n",
    "Встречаются ли пользователи, которые попали и в А, и в В группу:"
   ]
  },
  {
   "cell_type": "code",
   "execution_count": 11,
   "metadata": {},
   "outputs": [
    {
     "data": {
      "text/html": [
       "<div>\n",
       "<style scoped>\n",
       "    .dataframe tbody tr th:only-of-type {\n",
       "        vertical-align: middle;\n",
       "    }\n",
       "\n",
       "    .dataframe tbody tr th {\n",
       "        vertical-align: top;\n",
       "    }\n",
       "\n",
       "    .dataframe thead th {\n",
       "        text-align: right;\n",
       "    }\n",
       "</style>\n",
       "<table border=\"1\" class=\"dataframe\">\n",
       "  <thead>\n",
       "    <tr style=\"text-align: right;\">\n",
       "      <th></th>\n",
       "      <th>visitor_id</th>\n",
       "      <th>count_groups</th>\n",
       "    </tr>\n",
       "  </thead>\n",
       "  <tbody>\n",
       "    <tr>\n",
       "      <th>958</th>\n",
       "      <td>3963646447</td>\n",
       "      <td>2</td>\n",
       "    </tr>\n",
       "    <tr>\n",
       "      <th>792</th>\n",
       "      <td>3234906277</td>\n",
       "      <td>2</td>\n",
       "    </tr>\n",
       "    <tr>\n",
       "      <th>1023</th>\n",
       "      <td>4256040402</td>\n",
       "      <td>2</td>\n",
       "    </tr>\n",
       "  </tbody>\n",
       "</table>\n",
       "</div>"
      ],
      "text/plain": [
       "      visitor_id  count_groups\n",
       "958   3963646447             2\n",
       "792   3234906277             2\n",
       "1023  4256040402             2"
      ]
     },
     "execution_count": 11,
     "metadata": {},
     "output_type": "execute_result"
    }
   ],
   "source": [
    "two_groups = orders.groupby(['visitor_id']).agg({'group':'nunique'}).reset_index()\n",
    "two_groups.set_axis(['visitor_id', 'count_groups'], axis = 'columns', inplace = True)\n",
    "two_groups = two_groups[two_groups['count_groups'] !=1]\n",
    "two_groups.sample(3)"
   ]
  },
  {
   "cell_type": "code",
   "execution_count": 12,
   "metadata": {},
   "outputs": [
    {
     "name": "stdout",
     "output_type": "stream",
     "text": [
      "В датафрейме `orders` пользователей, которые попали одновременно и в группу А, и в группу В: 58\n"
     ]
    }
   ],
   "source": [
    "print('В датафрейме `orders` пользователей, которые попали одновременно и в группу А, и в группу В:', len(two_groups))"
   ]
  },
  {
   "cell_type": "markdown",
   "metadata": {},
   "source": [
    "Проверяем, считаем разность между числом уникальных пользователей в группах (сумма уников из двух групп) и числом уникальных пользователей в датафрейме без учета деления группы:"
   ]
  },
  {
   "cell_type": "code",
   "execution_count": 13,
   "metadata": {},
   "outputs": [
    {
     "data": {
      "text/plain": [
       "58"
      ]
     },
     "execution_count": 13,
     "metadata": {},
     "output_type": "execute_result"
    }
   ],
   "source": [
    "records_by_groups['visitor_id_nunique'].sum() - orders['visitor_id'].nunique()"
   ]
  },
  {
   "cell_type": "markdown",
   "metadata": {},
   "source": [
    "Сходится. Какую долю занимают такие неоднозначные пользователи:"
   ]
  },
  {
   "cell_type": "code",
   "execution_count": 14,
   "metadata": {},
   "outputs": [
    {
     "name": "stdout",
     "output_type": "stream",
     "text": [
      "Доля пользователей, попавших одновременно в группу А и в группу В: 0.05625606207565471\n"
     ]
    }
   ],
   "source": [
    "print('Доля пользователей, попавших одновременно в группу А и в группу В:', len(two_groups) / orders['visitor_id'].nunique() )"
   ]
  },
  {
   "cell_type": "markdown",
   "metadata": {},
   "source": [
    "Можно ли с ними что-то сделать? Отрежем транзакции с пользователями, попавшими одновременно в разные группы, в отдельный датафрейм `transactions_to_help`:"
   ]
  },
  {
   "cell_type": "code",
   "execution_count": 15,
   "metadata": {},
   "outputs": [
    {
     "name": "stdout",
     "output_type": "stream",
     "text": [
      "Число транзакций с пользователями, попавшими одновременно в разные группы: 181\n",
      "Доля транзакций с пользователями, попавшими одновременно в разные группы: 0.15121136173767752\n"
     ]
    }
   ],
   "source": [
    "transactions_to_help = orders.query('visitor_id in @two_groups.visitor_id')\n",
    "print('Число транзакций с пользователями, попавшими одновременно в разные группы:', len(transactions_to_help))\n",
    "print('Доля транзакций с пользователями, попавшими одновременно в разные группы:', len(transactions_to_help) /len(orders))"
   ]
  },
  {
   "cell_type": "markdown",
   "metadata": {},
   "source": [
    "Доля транзакций с пользователями, попавшими одновременно в разные группы, огромно = 15% от всех имеющихся транзакций."
   ]
  },
  {
   "cell_type": "code",
   "execution_count": 16,
   "metadata": {},
   "outputs": [
    {
     "data": {
      "text/html": [
       "<div>\n",
       "<style scoped>\n",
       "    .dataframe tbody tr th:only-of-type {\n",
       "        vertical-align: middle;\n",
       "    }\n",
       "\n",
       "    .dataframe tbody tr th {\n",
       "        vertical-align: top;\n",
       "    }\n",
       "\n",
       "    .dataframe thead th {\n",
       "        text-align: right;\n",
       "    }\n",
       "</style>\n",
       "<table border=\"1\" class=\"dataframe\">\n",
       "  <thead>\n",
       "    <tr style=\"text-align: right;\">\n",
       "      <th></th>\n",
       "      <th>transaction_id</th>\n",
       "      <th>visitor_id</th>\n",
       "      <th>date</th>\n",
       "      <th>revenue</th>\n",
       "      <th>group</th>\n",
       "    </tr>\n",
       "  </thead>\n",
       "  <tbody>\n",
       "    <tr>\n",
       "      <th>517</th>\n",
       "      <td>582361359</td>\n",
       "      <td>2044997962</td>\n",
       "      <td>2019-08-26</td>\n",
       "      <td>990</td>\n",
       "      <td>B</td>\n",
       "    </tr>\n",
       "    <tr>\n",
       "      <th>783</th>\n",
       "      <td>189332332</td>\n",
       "      <td>1959144690</td>\n",
       "      <td>2019-08-27</td>\n",
       "      <td>16480</td>\n",
       "      <td>B</td>\n",
       "    </tr>\n",
       "    <tr>\n",
       "      <th>480</th>\n",
       "      <td>1954636284</td>\n",
       "      <td>2600415354</td>\n",
       "      <td>2019-08-06</td>\n",
       "      <td>1530</td>\n",
       "      <td>B</td>\n",
       "    </tr>\n",
       "  </tbody>\n",
       "</table>\n",
       "</div>"
      ],
      "text/plain": [
       "     transaction_id  visitor_id       date  revenue group\n",
       "517       582361359  2044997962 2019-08-26      990     B\n",
       "783       189332332  1959144690 2019-08-27    16480     B\n",
       "480      1954636284  2600415354 2019-08-06     1530     B"
      ]
     },
     "execution_count": 16,
     "metadata": {},
     "output_type": "execute_result"
    }
   ],
   "source": [
    "transactions_to_help.sample(3)"
   ]
  },
  {
   "cell_type": "markdown",
   "metadata": {},
   "source": [
    "Пробуем выделить самую раннюю дату среди транзакций каждого пользователя, чтобы по ней установить группу:"
   ]
  },
  {
   "cell_type": "code",
   "execution_count": 17,
   "metadata": {},
   "outputs": [
    {
     "data": {
      "text/html": [
       "<div>\n",
       "<style scoped>\n",
       "    .dataframe tbody tr th:only-of-type {\n",
       "        vertical-align: middle;\n",
       "    }\n",
       "\n",
       "    .dataframe tbody tr th {\n",
       "        vertical-align: top;\n",
       "    }\n",
       "\n",
       "    .dataframe thead th {\n",
       "        text-align: right;\n",
       "    }\n",
       "</style>\n",
       "<table border=\"1\" class=\"dataframe\">\n",
       "  <thead>\n",
       "    <tr style=\"text-align: right;\">\n",
       "      <th></th>\n",
       "      <th>visitor_id</th>\n",
       "      <th>first_date</th>\n",
       "    </tr>\n",
       "  </thead>\n",
       "  <tbody>\n",
       "    <tr>\n",
       "      <th>0</th>\n",
       "      <td>8300375</td>\n",
       "      <td>2019-08-01</td>\n",
       "    </tr>\n",
       "    <tr>\n",
       "      <th>1</th>\n",
       "      <td>199603092</td>\n",
       "      <td>2019-08-02</td>\n",
       "    </tr>\n",
       "    <tr>\n",
       "      <th>2</th>\n",
       "      <td>232979603</td>\n",
       "      <td>2019-08-31</td>\n",
       "    </tr>\n",
       "  </tbody>\n",
       "</table>\n",
       "</div>"
      ],
      "text/plain": [
       "   visitor_id first_date\n",
       "0     8300375 2019-08-01\n",
       "1   199603092 2019-08-02\n",
       "2   232979603 2019-08-31"
      ]
     },
     "execution_count": 17,
     "metadata": {},
     "output_type": "execute_result"
    }
   ],
   "source": [
    "first_date = transactions_to_help.groupby(['visitor_id']).agg({'date':'min'}).reset_index()\n",
    "first_date.columns = ['visitor_id', 'first_date']\n",
    "first_date.head(3)"
   ]
  },
  {
   "cell_type": "code",
   "execution_count": 18,
   "metadata": {},
   "outputs": [
    {
     "data": {
      "text/html": [
       "<div>\n",
       "<style scoped>\n",
       "    .dataframe tbody tr th:only-of-type {\n",
       "        vertical-align: middle;\n",
       "    }\n",
       "\n",
       "    .dataframe tbody tr th {\n",
       "        vertical-align: top;\n",
       "    }\n",
       "\n",
       "    .dataframe thead th {\n",
       "        text-align: right;\n",
       "    }\n",
       "</style>\n",
       "<table border=\"1\" class=\"dataframe\">\n",
       "  <thead>\n",
       "    <tr style=\"text-align: right;\">\n",
       "      <th></th>\n",
       "      <th>transaction_id</th>\n",
       "      <th>visitor_id</th>\n",
       "      <th>date</th>\n",
       "      <th>revenue</th>\n",
       "      <th>group</th>\n",
       "      <th>first_date</th>\n",
       "    </tr>\n",
       "  </thead>\n",
       "  <tbody>\n",
       "    <tr>\n",
       "      <th>0</th>\n",
       "      <td>2961555356</td>\n",
       "      <td>4069496402</td>\n",
       "      <td>2019-08-15</td>\n",
       "      <td>400</td>\n",
       "      <td>A</td>\n",
       "      <td>2019-08-12</td>\n",
       "    </tr>\n",
       "    <tr>\n",
       "      <th>1</th>\n",
       "      <td>1473132782</td>\n",
       "      <td>4069496402</td>\n",
       "      <td>2019-08-12</td>\n",
       "      <td>640</td>\n",
       "      <td>B</td>\n",
       "      <td>2019-08-12</td>\n",
       "    </tr>\n",
       "    <tr>\n",
       "      <th>2</th>\n",
       "      <td>2904772834</td>\n",
       "      <td>963407295</td>\n",
       "      <td>2019-08-15</td>\n",
       "      <td>300</td>\n",
       "      <td>B</td>\n",
       "      <td>2019-08-14</td>\n",
       "    </tr>\n",
       "    <tr>\n",
       "      <th>3</th>\n",
       "      <td>1458356232</td>\n",
       "      <td>963407295</td>\n",
       "      <td>2019-08-14</td>\n",
       "      <td>4940</td>\n",
       "      <td>A</td>\n",
       "      <td>2019-08-14</td>\n",
       "    </tr>\n",
       "    <tr>\n",
       "      <th>4</th>\n",
       "      <td>4252514150</td>\n",
       "      <td>351125977</td>\n",
       "      <td>2019-08-15</td>\n",
       "      <td>15185</td>\n",
       "      <td>B</td>\n",
       "      <td>2019-08-06</td>\n",
       "    </tr>\n",
       "  </tbody>\n",
       "</table>\n",
       "</div>"
      ],
      "text/plain": [
       "   transaction_id  visitor_id       date  revenue group first_date\n",
       "0      2961555356  4069496402 2019-08-15      400     A 2019-08-12\n",
       "1      1473132782  4069496402 2019-08-12      640     B 2019-08-12\n",
       "2      2904772834   963407295 2019-08-15      300     B 2019-08-14\n",
       "3      1458356232   963407295 2019-08-14     4940     A 2019-08-14\n",
       "4      4252514150   351125977 2019-08-15    15185     B 2019-08-06"
      ]
     },
     "execution_count": 18,
     "metadata": {},
     "output_type": "execute_result"
    }
   ],
   "source": [
    "transactions_to_help = transactions_to_help.merge(first_date, on = 'visitor_id')\n",
    "transactions_to_help.head()"
   ]
  },
  {
   "cell_type": "markdown",
   "metadata": {},
   "source": [
    "Оставляем только строки, где дата транзакции такая же как дата первой транзакции для каждого пользователя:"
   ]
  },
  {
   "cell_type": "code",
   "execution_count": 19,
   "metadata": {
    "scrolled": false
   },
   "outputs": [
    {
     "data": {
      "text/html": [
       "<div>\n",
       "<style scoped>\n",
       "    .dataframe tbody tr th:only-of-type {\n",
       "        vertical-align: middle;\n",
       "    }\n",
       "\n",
       "    .dataframe tbody tr th {\n",
       "        vertical-align: top;\n",
       "    }\n",
       "\n",
       "    .dataframe thead th {\n",
       "        text-align: right;\n",
       "    }\n",
       "</style>\n",
       "<table border=\"1\" class=\"dataframe\">\n",
       "  <thead>\n",
       "    <tr style=\"text-align: right;\">\n",
       "      <th></th>\n",
       "      <th>transaction_id</th>\n",
       "      <th>visitor_id</th>\n",
       "      <th>date</th>\n",
       "      <th>revenue</th>\n",
       "      <th>group</th>\n",
       "      <th>first_date</th>\n",
       "    </tr>\n",
       "  </thead>\n",
       "  <tbody>\n",
       "    <tr>\n",
       "      <th>1</th>\n",
       "      <td>1473132782</td>\n",
       "      <td>4069496402</td>\n",
       "      <td>2019-08-12</td>\n",
       "      <td>640</td>\n",
       "      <td>B</td>\n",
       "      <td>2019-08-12</td>\n",
       "    </tr>\n",
       "    <tr>\n",
       "      <th>3</th>\n",
       "      <td>1458356232</td>\n",
       "      <td>963407295</td>\n",
       "      <td>2019-08-14</td>\n",
       "      <td>4940</td>\n",
       "      <td>A</td>\n",
       "      <td>2019-08-14</td>\n",
       "    </tr>\n",
       "    <tr>\n",
       "      <th>5</th>\n",
       "      <td>3075639014</td>\n",
       "      <td>351125977</td>\n",
       "      <td>2019-08-06</td>\n",
       "      <td>4485</td>\n",
       "      <td>A</td>\n",
       "      <td>2019-08-06</td>\n",
       "    </tr>\n",
       "    <tr>\n",
       "      <th>6</th>\n",
       "      <td>1162046357</td>\n",
       "      <td>3234906277</td>\n",
       "      <td>2019-08-15</td>\n",
       "      <td>7555</td>\n",
       "      <td>B</td>\n",
       "      <td>2019-08-15</td>\n",
       "    </tr>\n",
       "    <tr>\n",
       "      <th>10</th>\n",
       "      <td>437656952</td>\n",
       "      <td>199603092</td>\n",
       "      <td>2019-08-02</td>\n",
       "      <td>3488</td>\n",
       "      <td>B</td>\n",
       "      <td>2019-08-02</td>\n",
       "    </tr>\n",
       "    <tr>\n",
       "      <th>...</th>\n",
       "      <td>...</td>\n",
       "      <td>...</td>\n",
       "      <td>...</td>\n",
       "      <td>...</td>\n",
       "      <td>...</td>\n",
       "      <td>...</td>\n",
       "    </tr>\n",
       "    <tr>\n",
       "      <th>175</th>\n",
       "      <td>3620682463</td>\n",
       "      <td>2654030115</td>\n",
       "      <td>2019-08-13</td>\n",
       "      <td>1980</td>\n",
       "      <td>B</td>\n",
       "      <td>2019-08-13</td>\n",
       "    </tr>\n",
       "    <tr>\n",
       "      <th>177</th>\n",
       "      <td>1277417350</td>\n",
       "      <td>3963646447</td>\n",
       "      <td>2019-08-14</td>\n",
       "      <td>6385</td>\n",
       "      <td>A</td>\n",
       "      <td>2019-08-14</td>\n",
       "    </tr>\n",
       "    <tr>\n",
       "      <th>178</th>\n",
       "      <td>2289555915</td>\n",
       "      <td>3963646447</td>\n",
       "      <td>2019-08-14</td>\n",
       "      <td>7485</td>\n",
       "      <td>B</td>\n",
       "      <td>2019-08-14</td>\n",
       "    </tr>\n",
       "    <tr>\n",
       "      <th>179</th>\n",
       "      <td>4052155355</td>\n",
       "      <td>2949041841</td>\n",
       "      <td>2019-08-14</td>\n",
       "      <td>190</td>\n",
       "      <td>A</td>\n",
       "      <td>2019-08-14</td>\n",
       "    </tr>\n",
       "    <tr>\n",
       "      <th>180</th>\n",
       "      <td>1329499668</td>\n",
       "      <td>2949041841</td>\n",
       "      <td>2019-08-14</td>\n",
       "      <td>10380</td>\n",
       "      <td>B</td>\n",
       "      <td>2019-08-14</td>\n",
       "    </tr>\n",
       "  </tbody>\n",
       "</table>\n",
       "<p>78 rows × 6 columns</p>\n",
       "</div>"
      ],
      "text/plain": [
       "     transaction_id  visitor_id       date  revenue group first_date\n",
       "1        1473132782  4069496402 2019-08-12      640     B 2019-08-12\n",
       "3        1458356232   963407295 2019-08-14     4940     A 2019-08-14\n",
       "5        3075639014   351125977 2019-08-06     4485     A 2019-08-06\n",
       "6        1162046357  3234906277 2019-08-15     7555     B 2019-08-15\n",
       "10        437656952   199603092 2019-08-02     3488     B 2019-08-02\n",
       "..              ...         ...        ...      ...   ...        ...\n",
       "175      3620682463  2654030115 2019-08-13     1980     B 2019-08-13\n",
       "177      1277417350  3963646447 2019-08-14     6385     A 2019-08-14\n",
       "178      2289555915  3963646447 2019-08-14     7485     B 2019-08-14\n",
       "179      4052155355  2949041841 2019-08-14      190     A 2019-08-14\n",
       "180      1329499668  2949041841 2019-08-14    10380     B 2019-08-14\n",
       "\n",
       "[78 rows x 6 columns]"
      ]
     },
     "execution_count": 19,
     "metadata": {},
     "output_type": "execute_result"
    }
   ],
   "source": [
    "transactions_to_help_first = transactions_to_help.query('date == first_date')\n",
    "transactions_to_help_first"
   ]
  },
  {
   "cell_type": "markdown",
   "metadata": {},
   "source": [
    "Но строк получается не 58 как этих пользователей, а 78! То есть некоторые пользователи делали покупку на сайте в один и тот же день, попадая при каждой транзакции в разные группы!"
   ]
  },
  {
   "cell_type": "markdown",
   "metadata": {},
   "source": [
    "#### Баг-репорт менеджеру продукта: "
   ]
  },
  {
   "cell_type": "markdown",
   "metadata": {},
   "source": [
    "\"В датафрейме по результатам A/B теста `orders` имеется 58 пользователей с одинаковым `visitorId`, которые попали одновременно и в группу А, и в группу В. 58 пользователей - это 5.63% от общего числа уникальных пользователей. Число транзакций с пользователями, попавшими одновременно в разные группы: 181 - это 15.12% от общего числа транзакций в датафрейме `orders`. Некоторые пользователи совершали разные транзакции в одну и ту же дату и попали в разные группы. Пожалуйста, останавливайте тест и проверяйте ошибки разделения на группы\"."
   ]
  },
  {
   "cell_type": "markdown",
   "metadata": {},
   "source": [
    "По-хорошему, анализировать такие результаты не имеет смысла - сплит на А/В сделан с ошибками. И нужно прямо здесь выбрать четвертый вариант решения: закрываем тест, чиним баги, запускаем новый."
   ]
  },
  {
   "cell_type": "markdown",
   "metadata": {},
   "source": [
    "Если отрезать транзакции неоднозначных пользователей (15% датафрейма!):"
   ]
  },
  {
   "cell_type": "code",
   "execution_count": 20,
   "metadata": {},
   "outputs": [
    {
     "data": {
      "text/html": [
       "<div>\n",
       "<style scoped>\n",
       "    .dataframe tbody tr th:only-of-type {\n",
       "        vertical-align: middle;\n",
       "    }\n",
       "\n",
       "    .dataframe tbody tr th {\n",
       "        vertical-align: top;\n",
       "    }\n",
       "\n",
       "    .dataframe thead th {\n",
       "        text-align: right;\n",
       "    }\n",
       "</style>\n",
       "<table border=\"1\" class=\"dataframe\">\n",
       "  <thead>\n",
       "    <tr style=\"text-align: right;\">\n",
       "      <th></th>\n",
       "      <th>group</th>\n",
       "      <th>visitor_id_nunique</th>\n",
       "      <th>visitor_id_count</th>\n",
       "    </tr>\n",
       "  </thead>\n",
       "  <tbody>\n",
       "    <tr>\n",
       "      <th>0</th>\n",
       "      <td>A</td>\n",
       "      <td>445</td>\n",
       "      <td>468</td>\n",
       "    </tr>\n",
       "    <tr>\n",
       "      <th>1</th>\n",
       "      <td>B</td>\n",
       "      <td>528</td>\n",
       "      <td>548</td>\n",
       "    </tr>\n",
       "  </tbody>\n",
       "</table>\n",
       "</div>"
      ],
      "text/plain": [
       "  group  visitor_id_nunique  visitor_id_count\n",
       "0     A                 445               468\n",
       "1     B                 528               548"
      ]
     },
     "execution_count": 20,
     "metadata": {},
     "output_type": "execute_result"
    }
   ],
   "source": [
    "orders_new = orders.query('visitor_id not in @two_groups.visitor_id')\n",
    "records_new_by_groups = orders_new.groupby(['group'], as_index=False)[['visitor_id']].agg(['nunique','count']).reset_index()\n",
    "records_new_by_groups.columns = records_new_by_groups.columns.droplevel(level=1)\n",
    "records_new_by_groups.set_axis(['group', 'visitor_id_nunique', 'visitor_id_count'], axis = 'columns', inplace = True)\n",
    "records_new_by_groups.set_index('group')\n",
    "records_new_by_groups"
   ]
  },
  {
   "cell_type": "markdown",
   "metadata": {},
   "source": [
    "#### Выводы по изчению датафрейма `orders` и подготовке данных к анализу"
   ]
  },
  {
   "cell_type": "markdown",
   "metadata": {},
   "source": [
    "В датафрейме `orders` собраны данные о 1197 заказах пользователей за 31 день с 1 по 31 августа 2019 года, пропусков не обнаружено, каждый заказ имеет индивидуальный идентификатор `transaction_id` (дубликатов нет), пользователи различаются по `visitor_id` (всего 1031 уникальный пользователь), в датафрейме могут быть несколько заказов от одного пользователя. По каждому заказа указана выручка за заказ. \n",
    "\n",
    "Пользователи разделены на группы А и В для А/В теста. При этом разделение на группы произведено с ошибкой и 58 пользователей из 1031 (5.63%) попали одновременно в группу А и группу Б - и в датафрейме `orders` 181 транзакция(15.12% от числа всех транзакций!) сделана такими пользователями, при этом не менее 20 заказов сделаны попавшими в разные группы пользователями в один и тот же день, что не позволяет \"починить им группу\" по группе, присвоенной в самую раннюю дату. По ошибкам сплитования подготовлен баг-репорт разработчикам и менеджеру продукта/проекта. В датафрейме `orders` в группе А числятся 503 пользователя, в группе B - 586 пользователей.\n",
    "\n",
    "Полагаем, что анализировать такие результаты мало смысла изначально - нужно выбрать закрыть тест, починить механизм разделения на группы и запустить новый.\n",
    "\n",
    "Продолжаем анализ с методически-ученической целью. Отсекаем неоднозначных пользователей и создаем датафрейм `orders_new`, в котором только транзакции от пользователей, однозначно записанных в одну из групп. В группе А остается 445 пользователей - они сделали 468 заказов, в группе B - 528 пользователей, которые сделали 548 заказов. Пользователи разделены на группы неравномерно."
   ]
  },
  {
   "cell_type": "markdown",
   "metadata": {},
   "source": [
    "### Датафрейм `visitors`"
   ]
  },
  {
   "cell_type": "code",
   "execution_count": 21,
   "metadata": {},
   "outputs": [
    {
     "data": {
      "text/html": [
       "<div>\n",
       "<style scoped>\n",
       "    .dataframe tbody tr th:only-of-type {\n",
       "        vertical-align: middle;\n",
       "    }\n",
       "\n",
       "    .dataframe tbody tr th {\n",
       "        vertical-align: top;\n",
       "    }\n",
       "\n",
       "    .dataframe thead th {\n",
       "        text-align: right;\n",
       "    }\n",
       "</style>\n",
       "<table border=\"1\" class=\"dataframe\">\n",
       "  <thead>\n",
       "    <tr style=\"text-align: right;\">\n",
       "      <th></th>\n",
       "      <th>date</th>\n",
       "      <th>group</th>\n",
       "      <th>visitors</th>\n",
       "    </tr>\n",
       "  </thead>\n",
       "  <tbody>\n",
       "    <tr>\n",
       "      <th>29</th>\n",
       "      <td>2019-08-30</td>\n",
       "      <td>A</td>\n",
       "      <td>490</td>\n",
       "    </tr>\n",
       "    <tr>\n",
       "      <th>61</th>\n",
       "      <td>2019-08-31</td>\n",
       "      <td>B</td>\n",
       "      <td>718</td>\n",
       "    </tr>\n",
       "    <tr>\n",
       "      <th>54</th>\n",
       "      <td>2019-08-24</td>\n",
       "      <td>B</td>\n",
       "      <td>378</td>\n",
       "    </tr>\n",
       "    <tr>\n",
       "      <th>38</th>\n",
       "      <td>2019-08-08</td>\n",
       "      <td>B</td>\n",
       "      <td>654</td>\n",
       "    </tr>\n",
       "    <tr>\n",
       "      <th>44</th>\n",
       "      <td>2019-08-14</td>\n",
       "      <td>B</td>\n",
       "      <td>746</td>\n",
       "    </tr>\n",
       "  </tbody>\n",
       "</table>\n",
       "</div>"
      ],
      "text/plain": [
       "          date group  visitors\n",
       "29  2019-08-30     A       490\n",
       "61  2019-08-31     B       718\n",
       "54  2019-08-24     B       378\n",
       "38  2019-08-08     B       654\n",
       "44  2019-08-14     B       746"
      ]
     },
     "execution_count": 21,
     "metadata": {},
     "output_type": "execute_result"
    }
   ],
   "source": [
    "visitors = pd.read_csv('visitors.csv')\n",
    "visitors.sample(5)"
   ]
  },
  {
   "cell_type": "markdown",
   "metadata": {},
   "source": [
    "Рассмотрим датафрейм `visitors` со столбцами:\n",
    "* date — дата;\n",
    "* group — группа A/B-теста;\n",
    "* visitors — количество пользователей в указанную дату в указанной группе A/B-теста."
   ]
  },
  {
   "cell_type": "code",
   "execution_count": 22,
   "metadata": {},
   "outputs": [
    {
     "name": "stdout",
     "output_type": "stream",
     "text": [
      "<class 'pandas.core.frame.DataFrame'>\n",
      "RangeIndex: 62 entries, 0 to 61\n",
      "Data columns (total 3 columns):\n",
      " #   Column    Non-Null Count  Dtype \n",
      "---  ------    --------------  ----- \n",
      " 0   date      62 non-null     object\n",
      " 1   group     62 non-null     object\n",
      " 2   visitors  62 non-null     int64 \n",
      "dtypes: int64(1), object(2)\n",
      "memory usage: 1.6+ KB\n"
     ]
    }
   ],
   "source": [
    "visitors.info()"
   ]
  },
  {
   "cell_type": "markdown",
   "metadata": {},
   "source": [
    "Приведем колонку date к формату datetime."
   ]
  },
  {
   "cell_type": "code",
   "execution_count": 23,
   "metadata": {},
   "outputs": [],
   "source": [
    "visitors['date'] = pd.to_datetime(visitors['date'])"
   ]
  },
  {
   "cell_type": "markdown",
   "metadata": {},
   "source": [
    "Разделим посетителей на два датасета по группам:"
   ]
  },
  {
   "cell_type": "code",
   "execution_count": 24,
   "metadata": {},
   "outputs": [],
   "source": [
    "visitors_a = visitors.query('group == \"A\"')[['date', 'visitors']]\n",
    "visitors_b = visitors.query('group == \"B\"')[['date', 'visitors']]"
   ]
  },
  {
   "cell_type": "code",
   "execution_count": 25,
   "metadata": {},
   "outputs": [
    {
     "data": {
      "image/png": "[encoded data removed]",
      "text/plain": [
       "<Figure size 1080x360 with 1 Axes>"
      ]
     },
     "metadata": {
      "needs_background": "light"
     },
     "output_type": "display_data"
    }
   ],
   "source": [
    "plt.figure(figsize = (15, 5))\n",
    "plt.plot(visitors_a['date'], visitors_a['visitors'], label='A')\n",
    "plt.plot(visitors_b['date'], visitors_b['visitors'], label='B')\n",
    "plt.xlabel('Дата')\n",
    "plt.xticks(rotation=45)\n",
    "plt.ylabel('Число посетителей сайта за день')\n",
    "plt.title('Динамика числа посетителей сайта из групп А и В')\n",
    "plt.grid(True)\n",
    "plt.legend()\n",
    "plt.show()"
   ]
  },
  {
   "cell_type": "code",
   "execution_count": 26,
   "metadata": {},
   "outputs": [
    {
     "data": {
      "text/plain": [
       "Timestamp('2019-08-01 00:00:00')"
      ]
     },
     "execution_count": 26,
     "metadata": {},
     "output_type": "execute_result"
    }
   ],
   "source": [
    "visitors['date'].min()"
   ]
  },
  {
   "cell_type": "code",
   "execution_count": 27,
   "metadata": {},
   "outputs": [
    {
     "data": {
      "text/plain": [
       "Timestamp('2019-08-31 00:00:00')"
      ]
     },
     "execution_count": 27,
     "metadata": {},
     "output_type": "execute_result"
    }
   ],
   "source": [
    "visitors['date'].max()"
   ]
  },
  {
   "cell_type": "code",
   "execution_count": 28,
   "metadata": {},
   "outputs": [
    {
     "data": {
      "text/plain": [
       "31"
      ]
     },
     "execution_count": 28,
     "metadata": {},
     "output_type": "execute_result"
    }
   ],
   "source": [
    "visitors['date'].nunique()"
   ]
  },
  {
   "cell_type": "markdown",
   "metadata": {},
   "source": [
    "#### Выводы по изчению датафрейма `visitors` и подготовке данных к анализу"
   ]
  },
  {
   "cell_type": "markdown",
   "metadata": {},
   "source": [
    "В датафрейме `visitors` представлено число пользователей в указанную дату за период 31 день с 01.08.19 по 31.08.19 в группе А и в группе В по результатам A/B-теста (62 строки), пропусков не обнаружено. По обеим группам наблюдаются еженедельные проседания численности посетителей (похоже, с пятницы на субботу), иногда в два раза.\n",
    "\n",
    "Использовать `orders_new` нет смысла, потому что нет возможности отсечь неоднозначных пользователей из `visitors`."
   ]
  },
  {
   "cell_type": "markdown",
   "metadata": {},
   "source": [
    "### Подготовка сводной таблицы `data` по дневным и кумулятивным показателям групп"
   ]
  },
  {
   "cell_type": "code",
   "execution_count": 29,
   "metadata": {},
   "outputs": [],
   "source": [
    "visitors_a.columns = ['date', 'visitors_a']\n",
    "visitors_b.columns = ['date', 'visitors_b']"
   ]
  },
  {
   "cell_type": "markdown",
   "metadata": {},
   "source": [
    "Считаем число посетителей по группам А и В накопительным итогом:"
   ]
  },
  {
   "cell_type": "code",
   "execution_count": 30,
   "metadata": {},
   "outputs": [
    {
     "data": {
      "text/html": [
       "<div>\n",
       "<style scoped>\n",
       "    .dataframe tbody tr th:only-of-type {\n",
       "        vertical-align: middle;\n",
       "    }\n",
       "\n",
       "    .dataframe tbody tr th {\n",
       "        vertical-align: top;\n",
       "    }\n",
       "\n",
       "    .dataframe thead th {\n",
       "        text-align: right;\n",
       "    }\n",
       "</style>\n",
       "<table border=\"1\" class=\"dataframe\">\n",
       "  <thead>\n",
       "    <tr style=\"text-align: right;\">\n",
       "      <th></th>\n",
       "      <th>date</th>\n",
       "      <th>visitors_a_cumsum</th>\n",
       "    </tr>\n",
       "  </thead>\n",
       "  <tbody>\n",
       "    <tr>\n",
       "      <th>0</th>\n",
       "      <td>2019-08-01</td>\n",
       "      <td>719</td>\n",
       "    </tr>\n",
       "    <tr>\n",
       "      <th>1</th>\n",
       "      <td>2019-08-02</td>\n",
       "      <td>1338</td>\n",
       "    </tr>\n",
       "    <tr>\n",
       "      <th>2</th>\n",
       "      <td>2019-08-03</td>\n",
       "      <td>1845</td>\n",
       "    </tr>\n",
       "    <tr>\n",
       "      <th>3</th>\n",
       "      <td>2019-08-04</td>\n",
       "      <td>2562</td>\n",
       "    </tr>\n",
       "    <tr>\n",
       "      <th>4</th>\n",
       "      <td>2019-08-05</td>\n",
       "      <td>3318</td>\n",
       "    </tr>\n",
       "  </tbody>\n",
       "</table>\n",
       "</div>"
      ],
      "text/plain": [
       "        date  visitors_a_cumsum\n",
       "0 2019-08-01                719\n",
       "1 2019-08-02               1338\n",
       "2 2019-08-03               1845\n",
       "3 2019-08-04               2562\n",
       "4 2019-08-05               3318"
      ]
     },
     "execution_count": 30,
     "metadata": {},
     "output_type": "execute_result"
    }
   ],
   "source": [
    "visitors_a_cumsum = visitors_a.apply(\n",
    "    lambda x: visitors_a[visitors_a['date'] <= x['date']].agg(\n",
    "    {'date': 'max', 'visitors_a': 'sum'}\n",
    "    ),\n",
    "    axis=1,)\n",
    "visitors_a_cumsum.columns = ['date', 'visitors_a_cumsum']\n",
    "visitors_a_cumsum.head()"
   ]
  },
  {
   "cell_type": "code",
   "execution_count": 31,
   "metadata": {},
   "outputs": [],
   "source": [
    "visitors_b_cumsum = visitors_b.apply(\n",
    "    lambda x: visitors_b[visitors_b['date'] <= x['date']].agg(\n",
    "    {'date': 'max', 'visitors_b': 'sum'}\n",
    "    ),\n",
    "    axis=1,)\n",
    "visitors_b_cumsum.columns = ['date', 'visitors_b_cumsum']"
   ]
  },
  {
   "cell_type": "markdown",
   "metadata": {},
   "source": [
    "Формируем две таблицы заказов по посетителям из группы А и из группы В, посчитав число транзакций за день и сумму заказов за день:"
   ]
  },
  {
   "cell_type": "code",
   "execution_count": 32,
   "metadata": {},
   "outputs": [
    {
     "data": {
      "text/html": [
       "<div>\n",
       "<style scoped>\n",
       "    .dataframe tbody tr th:only-of-type {\n",
       "        vertical-align: middle;\n",
       "    }\n",
       "\n",
       "    .dataframe tbody tr th {\n",
       "        vertical-align: top;\n",
       "    }\n",
       "\n",
       "    .dataframe thead th {\n",
       "        text-align: right;\n",
       "    }\n",
       "</style>\n",
       "<table border=\"1\" class=\"dataframe\">\n",
       "  <thead>\n",
       "    <tr style=\"text-align: right;\">\n",
       "      <th></th>\n",
       "      <th>date</th>\n",
       "      <th>orders_a_per_date</th>\n",
       "      <th>revenue_a_per_date</th>\n",
       "    </tr>\n",
       "  </thead>\n",
       "  <tbody>\n",
       "    <tr>\n",
       "      <th>0</th>\n",
       "      <td>2019-08-01</td>\n",
       "      <td>24</td>\n",
       "      <td>148579</td>\n",
       "    </tr>\n",
       "    <tr>\n",
       "      <th>1</th>\n",
       "      <td>2019-08-02</td>\n",
       "      <td>20</td>\n",
       "      <td>93822</td>\n",
       "    </tr>\n",
       "    <tr>\n",
       "      <th>2</th>\n",
       "      <td>2019-08-03</td>\n",
       "      <td>24</td>\n",
       "      <td>112473</td>\n",
       "    </tr>\n",
       "    <tr>\n",
       "      <th>3</th>\n",
       "      <td>2019-08-04</td>\n",
       "      <td>16</td>\n",
       "      <td>70825</td>\n",
       "    </tr>\n",
       "    <tr>\n",
       "      <th>4</th>\n",
       "      <td>2019-08-05</td>\n",
       "      <td>25</td>\n",
       "      <td>124218</td>\n",
       "    </tr>\n",
       "  </tbody>\n",
       "</table>\n",
       "</div>"
      ],
      "text/plain": [
       "        date  orders_a_per_date  revenue_a_per_date\n",
       "0 2019-08-01                 24              148579\n",
       "1 2019-08-02                 20               93822\n",
       "2 2019-08-03                 24              112473\n",
       "3 2019-08-04                 16               70825\n",
       "4 2019-08-05                 25              124218"
      ]
     },
     "execution_count": 32,
     "metadata": {},
     "output_type": "execute_result"
    }
   ],
   "source": [
    "orders_a_daily = (\n",
    "    orders[orders['group'] == 'A'][['date', 'transaction_id', 'visitor_id', 'revenue']]\n",
    "    .groupby('date', as_index=False)\n",
    "    .agg({'transaction_id': pd.Series.nunique, 'revenue': 'sum'})\n",
    ")\n",
    "orders_a_daily.columns = ['date', 'orders_a_per_date', 'revenue_a_per_date']\n",
    "orders_a_daily.head()"
   ]
  },
  {
   "cell_type": "code",
   "execution_count": 33,
   "metadata": {},
   "outputs": [
    {
     "data": {
      "text/html": [
       "<div>\n",
       "<style scoped>\n",
       "    .dataframe tbody tr th:only-of-type {\n",
       "        vertical-align: middle;\n",
       "    }\n",
       "\n",
       "    .dataframe tbody tr th {\n",
       "        vertical-align: top;\n",
       "    }\n",
       "\n",
       "    .dataframe thead th {\n",
       "        text-align: right;\n",
       "    }\n",
       "</style>\n",
       "<table border=\"1\" class=\"dataframe\">\n",
       "  <thead>\n",
       "    <tr style=\"text-align: right;\">\n",
       "      <th></th>\n",
       "      <th>date</th>\n",
       "      <th>orders_b_per_date</th>\n",
       "      <th>revenue_b_per_date</th>\n",
       "    </tr>\n",
       "  </thead>\n",
       "  <tbody>\n",
       "    <tr>\n",
       "      <th>0</th>\n",
       "      <td>2019-08-01</td>\n",
       "      <td>21</td>\n",
       "      <td>101217</td>\n",
       "    </tr>\n",
       "    <tr>\n",
       "      <th>1</th>\n",
       "      <td>2019-08-02</td>\n",
       "      <td>24</td>\n",
       "      <td>165531</td>\n",
       "    </tr>\n",
       "    <tr>\n",
       "      <th>2</th>\n",
       "      <td>2019-08-03</td>\n",
       "      <td>16</td>\n",
       "      <td>114248</td>\n",
       "    </tr>\n",
       "    <tr>\n",
       "      <th>3</th>\n",
       "      <td>2019-08-04</td>\n",
       "      <td>17</td>\n",
       "      <td>108571</td>\n",
       "    </tr>\n",
       "    <tr>\n",
       "      <th>4</th>\n",
       "      <td>2019-08-05</td>\n",
       "      <td>23</td>\n",
       "      <td>92428</td>\n",
       "    </tr>\n",
       "  </tbody>\n",
       "</table>\n",
       "</div>"
      ],
      "text/plain": [
       "        date  orders_b_per_date  revenue_b_per_date\n",
       "0 2019-08-01                 21              101217\n",
       "1 2019-08-02                 24              165531\n",
       "2 2019-08-03                 16              114248\n",
       "3 2019-08-04                 17              108571\n",
       "4 2019-08-05                 23               92428"
      ]
     },
     "execution_count": 33,
     "metadata": {},
     "output_type": "execute_result"
    }
   ],
   "source": [
    "orders_b_daily = (\n",
    "    orders[orders['group'] == 'B'][['date', 'transaction_id', 'visitor_id', 'revenue']]\n",
    "    .groupby('date', as_index=False)\n",
    "    .agg({'transaction_id': pd.Series.nunique, 'revenue': 'sum'})\n",
    ")\n",
    "orders_b_daily.columns = ['date', 'orders_b_per_date', 'revenue_b_per_date']\n",
    "orders_b_daily.head()"
   ]
  },
  {
   "cell_type": "code",
   "execution_count": 34,
   "metadata": {},
   "outputs": [
    {
     "data": {
      "text/html": [
       "<div>\n",
       "<style scoped>\n",
       "    .dataframe tbody tr th:only-of-type {\n",
       "        vertical-align: middle;\n",
       "    }\n",
       "\n",
       "    .dataframe tbody tr th {\n",
       "        vertical-align: top;\n",
       "    }\n",
       "\n",
       "    .dataframe thead th {\n",
       "        text-align: right;\n",
       "    }\n",
       "</style>\n",
       "<table border=\"1\" class=\"dataframe\">\n",
       "  <thead>\n",
       "    <tr style=\"text-align: right;\">\n",
       "      <th></th>\n",
       "      <th>date</th>\n",
       "      <th>orders_a_cumsum</th>\n",
       "      <th>revenue_a_cumsum</th>\n",
       "    </tr>\n",
       "  </thead>\n",
       "  <tbody>\n",
       "    <tr>\n",
       "      <th>0</th>\n",
       "      <td>2019-08-01</td>\n",
       "      <td>24</td>\n",
       "      <td>148579</td>\n",
       "    </tr>\n",
       "    <tr>\n",
       "      <th>1</th>\n",
       "      <td>2019-08-02</td>\n",
       "      <td>44</td>\n",
       "      <td>242401</td>\n",
       "    </tr>\n",
       "    <tr>\n",
       "      <th>2</th>\n",
       "      <td>2019-08-03</td>\n",
       "      <td>68</td>\n",
       "      <td>354874</td>\n",
       "    </tr>\n",
       "    <tr>\n",
       "      <th>3</th>\n",
       "      <td>2019-08-04</td>\n",
       "      <td>84</td>\n",
       "      <td>425699</td>\n",
       "    </tr>\n",
       "    <tr>\n",
       "      <th>4</th>\n",
       "      <td>2019-08-05</td>\n",
       "      <td>109</td>\n",
       "      <td>549917</td>\n",
       "    </tr>\n",
       "  </tbody>\n",
       "</table>\n",
       "</div>"
      ],
      "text/plain": [
       "        date  orders_a_cumsum  revenue_a_cumsum\n",
       "0 2019-08-01               24            148579\n",
       "1 2019-08-02               44            242401\n",
       "2 2019-08-03               68            354874\n",
       "3 2019-08-04               84            425699\n",
       "4 2019-08-05              109            549917"
      ]
     },
     "execution_count": 34,
     "metadata": {},
     "output_type": "execute_result"
    }
   ],
   "source": [
    "orders_a_cumsum = orders_a_daily.apply(\n",
    "    lambda x: orders_a_daily[orders_a_daily['date'] <= x['date']].agg(\n",
    "        {'date': 'max', 'orders_a_per_date': 'sum', 'revenue_a_per_date': 'sum'}\n",
    "    ),\n",
    "    axis=1,\n",
    ").sort_values(by=['date'])\n",
    "orders_a_cumsum.columns = [\n",
    "    'date',\n",
    "    'orders_a_cumsum',\n",
    "    'revenue_a_cumsum',\n",
    "]\n",
    "orders_a_cumsum.head()"
   ]
  },
  {
   "cell_type": "code",
   "execution_count": 35,
   "metadata": {},
   "outputs": [
    {
     "data": {
      "text/html": [
       "<div>\n",
       "<style scoped>\n",
       "    .dataframe tbody tr th:only-of-type {\n",
       "        vertical-align: middle;\n",
       "    }\n",
       "\n",
       "    .dataframe tbody tr th {\n",
       "        vertical-align: top;\n",
       "    }\n",
       "\n",
       "    .dataframe thead th {\n",
       "        text-align: right;\n",
       "    }\n",
       "</style>\n",
       "<table border=\"1\" class=\"dataframe\">\n",
       "  <thead>\n",
       "    <tr style=\"text-align: right;\">\n",
       "      <th></th>\n",
       "      <th>date</th>\n",
       "      <th>orders_b_cumsum</th>\n",
       "      <th>revenue_b_cumsum</th>\n",
       "    </tr>\n",
       "  </thead>\n",
       "  <tbody>\n",
       "    <tr>\n",
       "      <th>0</th>\n",
       "      <td>2019-08-01</td>\n",
       "      <td>21</td>\n",
       "      <td>101217</td>\n",
       "    </tr>\n",
       "    <tr>\n",
       "      <th>1</th>\n",
       "      <td>2019-08-02</td>\n",
       "      <td>45</td>\n",
       "      <td>266748</td>\n",
       "    </tr>\n",
       "    <tr>\n",
       "      <th>2</th>\n",
       "      <td>2019-08-03</td>\n",
       "      <td>61</td>\n",
       "      <td>380996</td>\n",
       "    </tr>\n",
       "    <tr>\n",
       "      <th>3</th>\n",
       "      <td>2019-08-04</td>\n",
       "      <td>78</td>\n",
       "      <td>489567</td>\n",
       "    </tr>\n",
       "    <tr>\n",
       "      <th>4</th>\n",
       "      <td>2019-08-05</td>\n",
       "      <td>101</td>\n",
       "      <td>581995</td>\n",
       "    </tr>\n",
       "  </tbody>\n",
       "</table>\n",
       "</div>"
      ],
      "text/plain": [
       "        date  orders_b_cumsum  revenue_b_cumsum\n",
       "0 2019-08-01               21            101217\n",
       "1 2019-08-02               45            266748\n",
       "2 2019-08-03               61            380996\n",
       "3 2019-08-04               78            489567\n",
       "4 2019-08-05              101            581995"
      ]
     },
     "execution_count": 35,
     "metadata": {},
     "output_type": "execute_result"
    }
   ],
   "source": [
    "orders_b_cumsum = orders_b_daily.apply(\n",
    "    lambda x: orders_b_daily[orders_b_daily['date'] <= x['date']].agg(\n",
    "        {'date': 'max', 'orders_b_per_date': 'sum', 'revenue_b_per_date': 'sum'}\n",
    "    ),\n",
    "    axis=1,\n",
    ").sort_values(by=['date'])\n",
    "orders_b_cumsum.columns = [\n",
    "    'date',\n",
    "    'orders_b_cumsum',\n",
    "    'revenue_b_cumsum',\n",
    "]\n",
    "orders_b_cumsum.head()"
   ]
  },
  {
   "cell_type": "markdown",
   "metadata": {},
   "source": [
    "Склеиваем все сформированные в этом разделе таблички в единую сводную таблицу `data`:"
   ]
  },
  {
   "cell_type": "code",
   "execution_count": 36,
   "metadata": {},
   "outputs": [
    {
     "data": {
      "text/html": [
       "<div>\n",
       "<style scoped>\n",
       "    .dataframe tbody tr th:only-of-type {\n",
       "        vertical-align: middle;\n",
       "    }\n",
       "\n",
       "    .dataframe tbody tr th {\n",
       "        vertical-align: top;\n",
       "    }\n",
       "\n",
       "    .dataframe thead th {\n",
       "        text-align: right;\n",
       "    }\n",
       "</style>\n",
       "<table border=\"1\" class=\"dataframe\">\n",
       "  <thead>\n",
       "    <tr style=\"text-align: right;\">\n",
       "      <th></th>\n",
       "      <th>date</th>\n",
       "      <th>orders_a_per_date</th>\n",
       "      <th>revenue_a_per_date</th>\n",
       "      <th>orders_b_per_date</th>\n",
       "      <th>revenue_b_per_date</th>\n",
       "      <th>orders_a_cumsum</th>\n",
       "      <th>revenue_a_cumsum</th>\n",
       "      <th>orders_b_cumsum</th>\n",
       "      <th>revenue_b_cumsum</th>\n",
       "      <th>visitors_a</th>\n",
       "      <th>visitors_b</th>\n",
       "      <th>visitors_a_cumsum</th>\n",
       "      <th>visitors_b_cumsum</th>\n",
       "    </tr>\n",
       "  </thead>\n",
       "  <tbody>\n",
       "    <tr>\n",
       "      <th>0</th>\n",
       "      <td>2019-08-01</td>\n",
       "      <td>24</td>\n",
       "      <td>148579</td>\n",
       "      <td>21</td>\n",
       "      <td>101217</td>\n",
       "      <td>24</td>\n",
       "      <td>148579</td>\n",
       "      <td>21</td>\n",
       "      <td>101217</td>\n",
       "      <td>719</td>\n",
       "      <td>713</td>\n",
       "      <td>719</td>\n",
       "      <td>713</td>\n",
       "    </tr>\n",
       "    <tr>\n",
       "      <th>1</th>\n",
       "      <td>2019-08-02</td>\n",
       "      <td>20</td>\n",
       "      <td>93822</td>\n",
       "      <td>24</td>\n",
       "      <td>165531</td>\n",
       "      <td>44</td>\n",
       "      <td>242401</td>\n",
       "      <td>45</td>\n",
       "      <td>266748</td>\n",
       "      <td>619</td>\n",
       "      <td>581</td>\n",
       "      <td>1338</td>\n",
       "      <td>1294</td>\n",
       "    </tr>\n",
       "    <tr>\n",
       "      <th>2</th>\n",
       "      <td>2019-08-03</td>\n",
       "      <td>24</td>\n",
       "      <td>112473</td>\n",
       "      <td>16</td>\n",
       "      <td>114248</td>\n",
       "      <td>68</td>\n",
       "      <td>354874</td>\n",
       "      <td>61</td>\n",
       "      <td>380996</td>\n",
       "      <td>507</td>\n",
       "      <td>509</td>\n",
       "      <td>1845</td>\n",
       "      <td>1803</td>\n",
       "    </tr>\n",
       "    <tr>\n",
       "      <th>3</th>\n",
       "      <td>2019-08-04</td>\n",
       "      <td>16</td>\n",
       "      <td>70825</td>\n",
       "      <td>17</td>\n",
       "      <td>108571</td>\n",
       "      <td>84</td>\n",
       "      <td>425699</td>\n",
       "      <td>78</td>\n",
       "      <td>489567</td>\n",
       "      <td>717</td>\n",
       "      <td>770</td>\n",
       "      <td>2562</td>\n",
       "      <td>2573</td>\n",
       "    </tr>\n",
       "    <tr>\n",
       "      <th>4</th>\n",
       "      <td>2019-08-05</td>\n",
       "      <td>25</td>\n",
       "      <td>124218</td>\n",
       "      <td>23</td>\n",
       "      <td>92428</td>\n",
       "      <td>109</td>\n",
       "      <td>549917</td>\n",
       "      <td>101</td>\n",
       "      <td>581995</td>\n",
       "      <td>756</td>\n",
       "      <td>707</td>\n",
       "      <td>3318</td>\n",
       "      <td>3280</td>\n",
       "    </tr>\n",
       "  </tbody>\n",
       "</table>\n",
       "</div>"
      ],
      "text/plain": [
       "        date  orders_a_per_date  revenue_a_per_date  orders_b_per_date  \\\n",
       "0 2019-08-01                 24              148579                 21   \n",
       "1 2019-08-02                 20               93822                 24   \n",
       "2 2019-08-03                 24              112473                 16   \n",
       "3 2019-08-04                 16               70825                 17   \n",
       "4 2019-08-05                 25              124218                 23   \n",
       "\n",
       "   revenue_b_per_date  orders_a_cumsum  revenue_a_cumsum  orders_b_cumsum  \\\n",
       "0              101217               24            148579               21   \n",
       "1              165531               44            242401               45   \n",
       "2              114248               68            354874               61   \n",
       "3              108571               84            425699               78   \n",
       "4               92428              109            549917              101   \n",
       "\n",
       "   revenue_b_cumsum  visitors_a  visitors_b  visitors_a_cumsum  \\\n",
       "0            101217         719         713                719   \n",
       "1            266748         619         581               1338   \n",
       "2            380996         507         509               1845   \n",
       "3            489567         717         770               2562   \n",
       "4            581995         756         707               3318   \n",
       "\n",
       "   visitors_b_cumsum  \n",
       "0                713  \n",
       "1               1294  \n",
       "2               1803  \n",
       "3               2573  \n",
       "4               3280  "
      ]
     },
     "execution_count": 36,
     "metadata": {},
     "output_type": "execute_result"
    }
   ],
   "source": [
    "data = (\n",
    "    orders_a_daily\n",
    "    .merge(orders_b_daily, left_on='date', right_on='date', how='left')\n",
    "    .merge(orders_a_cumsum, left_on='date', right_on='date', how='left')\n",
    "    .merge(orders_b_cumsum, left_on='date', right_on='date', how='left')\n",
    "    .merge(visitors_a, left_on='date', right_on='date', how='left')\n",
    "    .merge(visitors_b, left_on='date', right_on='date', how='left')\n",
    "    .merge(visitors_a_cumsum, left_on='date', right_on='date', how='left')\n",
    "    .merge(visitors_b_cumsum, left_on='date', right_on='date', how='left')\n",
    ")\n",
    "data.head(5)"
   ]
  },
  {
   "cell_type": "markdown",
   "metadata": {},
   "source": [
    "## Анализ кумулятивных метрик по группам"
   ]
  },
  {
   "cell_type": "markdown",
   "metadata": {},
   "source": [
    "### Выручка"
   ]
  },
  {
   "cell_type": "code",
   "execution_count": 37,
   "metadata": {},
   "outputs": [
    {
     "data": {
      "image/png": "[encoded data removed]",
      "text/plain": [
       "<Figure size 720x360 with 1 Axes>"
      ]
     },
     "metadata": {
      "needs_background": "light"
     },
     "output_type": "display_data"
    }
   ],
   "source": [
    "plt.figure(figsize = (10, 5))\n",
    "plt.plot(data['date'], data['revenue_a_cumsum'], label='A')\n",
    "plt.plot(data['date'], data['revenue_b_cumsum'], label='B')\n",
    "plt.xlabel('Дата')\n",
    "plt.xticks(rotation=45)\n",
    "plt.grid(True)\n",
    "plt.ylabel('Кумулятивная выручка за день, ден.ед.')\n",
    "plt.title('Изменение кумулятивной дневной выручки')\n",
    "plt.legend()\n",
    "plt.show()"
   ]
  },
  {
   "cell_type": "markdown",
   "metadata": {},
   "source": [
    "Кумулятивная выручка группы А почти равномерно увеличивается в течение всего теста. Кумулятивная выручка группы В увеличивается значительнее А, начиная с 09.08.19, а после 18 августа делает скачок более чем на 35% вверх и далее продолжает расти параллельно кумулятивной выручке группы А, но уже на уровне, превышающем А более, чем на треть.\n",
    "\n",
    "Это может сигнализировать о резком скачке числа заказов в группе В,  о появлении в группе В очень дорогих заказов, либо о том и другом одновременно. Также не забываем, что численность группы В (586) превышает численность группы А (503), и есть еще 58 неоднозначных пользователей."
   ]
  },
  {
   "cell_type": "markdown",
   "metadata": {},
   "source": [
    "### Конверсия"
   ]
  },
  {
   "cell_type": "code",
   "execution_count": 38,
   "metadata": {},
   "outputs": [],
   "source": [
    "data['conv_a_cumsum'] = data['orders_a_cumsum']/data['visitors_a_cumsum']\n",
    "data['conv_b_cumsum'] = data['orders_b_cumsum']/data['visitors_b_cumsum']"
   ]
  },
  {
   "cell_type": "code",
   "execution_count": 39,
   "metadata": {},
   "outputs": [
    {
     "data": {
      "image/png": "[encoded data removed]",
      "text/plain": [
       "<Figure size 720x360 with 1 Axes>"
      ]
     },
     "metadata": {
      "needs_background": "light"
     },
     "output_type": "display_data"
    }
   ],
   "source": [
    "plt.figure(figsize = (10, 5))\n",
    "plt.plot(data['date'], data['conv_a_cumsum'], label='A')\n",
    "plt.plot(data['date'], data['conv_b_cumsum'], label='B')\n",
    "plt.axis([\"2019-08-01\", '2019-08-31', 0.01, 0.05])\n",
    "plt.xlabel('Дата')\n",
    "plt.xticks(rotation=45)\n",
    "plt.ylabel('Конверсия')\n",
    "plt.title('Кумулятивная конверсия по группам')\n",
    "plt.grid(True)\n",
    "plt.legend()\n",
    "plt.show()"
   ]
  },
  {
   "cell_type": "markdown",
   "metadata": {},
   "source": [
    "В начале месяца кумулятивные конверсии групп колебались практические параллельно - группа А доминировала, но после 6 августа конверсия группы В вырвалась вверх, далее колебалась, но всегда до конца месяца превосходила конверсию группы А, а конверсия группы А просела и после 13 августа зафиксировалась. Конверсия группы В немного припала после 21 августа и стала более стабильной."
   ]
  },
  {
   "cell_type": "markdown",
   "metadata": {},
   "source": [
    "Относительное изменение конверсии (B/A):"
   ]
  },
  {
   "cell_type": "code",
   "execution_count": 40,
   "metadata": {},
   "outputs": [
    {
     "data": {
      "text/plain": [
       "Text(0.5, 1.0, 'Относительный прирост конверсии группы B относительно группы A')"
      ]
     },
     "execution_count": 40,
     "metadata": {},
     "output_type": "execute_result"
    },
    {
     "data": {
      "image/png": "[encoded data removed]",
      "text/plain": [
       "<Figure size 720x360 with 1 Axes>"
      ]
     },
     "metadata": {
      "needs_background": "light"
     },
     "output_type": "display_data"
    }
   ],
   "source": [
    "plt.figure(figsize = (10, 5))\n",
    "plt.plot(data['date'], (data['conv_b_cumsum']/data['conv_a_cumsum']-1))\n",
    "plt.xlabel('Дата')\n",
    "plt.xticks(rotation=45)\n",
    "plt.axhline(y=0, color='black', linestyle='--')\n",
    "plt.axhline(y=0.1, color='grey', linestyle='--')\n",
    "plt.axis([\"2019-07-31\", '2019-09-01', -0.5, 0.5])\n",
    "plt.title('Относительный прирост конверсии группы B относительно группы A')"
   ]
  },
  {
   "cell_type": "markdown",
   "metadata": {},
   "source": [
    "Относительный прирост конверсии группы В относительно группы А стабилизировался после 22 августа на уровне примерно 0.1."
   ]
  },
  {
   "cell_type": "markdown",
   "metadata": {},
   "source": [
    "### Средний чек"
   ]
  },
  {
   "cell_type": "markdown",
   "metadata": {},
   "source": [
    "Посчитаем кумулятивный средний чек по группам — разделим кумулятивную выручку на кумулятивное число заказов."
   ]
  },
  {
   "cell_type": "code",
   "execution_count": 41,
   "metadata": {},
   "outputs": [],
   "source": [
    "data['avgbill_a_cumsum'] = data['revenue_a_cumsum'] / data['orders_a_cumsum']\n",
    "data['avgbill_b_cumsum'] = data['revenue_b_cumsum'] / data['orders_b_cumsum']"
   ]
  },
  {
   "cell_type": "code",
   "execution_count": 42,
   "metadata": {},
   "outputs": [
    {
     "data": {
      "image/png": "[encoded data removed]",
      "text/plain": [
       "<Figure size 720x360 with 1 Axes>"
      ]
     },
     "metadata": {
      "needs_background": "light"
     },
     "output_type": "display_data"
    }
   ],
   "source": [
    "plt.figure(figsize = (10, 5))\n",
    "plt.plot(data['date'], data['avgbill_a_cumsum'], label='A')\n",
    "plt.plot(data['date'], data['avgbill_b_cumsum'], label='B')\n",
    "plt.axis([\"2019-08-01\", '2019-08-31', 4000, 11000])\n",
    "plt.xlabel('Дата')\n",
    "plt.xticks(rotation=45)\n",
    "plt.ylabel('Кумулятивный средний чек, ден.ед')\n",
    "plt.title('Динамика кумулятивных средних чеков в группе А и группе В')\n",
    "plt.grid(True)\n",
    "plt.legend()\n",
    "plt.show()"
   ]
  },
  {
   "cell_type": "markdown",
   "metadata": {},
   "source": [
    "Относительное изменение среднего чека (B / A):"
   ]
  },
  {
   "cell_type": "code",
   "execution_count": 43,
   "metadata": {},
   "outputs": [
    {
     "data": {
      "image/png": "[encoded data removed]",
      "text/plain": [
       "<Figure size 720x360 with 1 Axes>"
      ]
     },
     "metadata": {
      "needs_background": "light"
     },
     "output_type": "display_data"
    }
   ],
   "source": [
    "plt.figure(figsize = (10, 5))\n",
    "plt.plot(data['date'], (data['avgbill_b_cumsum']/ data['avgbill_a_cumsum'] - 1))\n",
    "plt.axis([\"2019-07-31\", '2019-09-01', -0.3, 0.6])\n",
    "plt.axhline(y=0, color='black', linestyle='--')\n",
    "plt.xlabel('Дата')\n",
    "plt.xticks(rotation=45)\n",
    "plt.axis([\"2019-07-31\", '2019-09-01', -0.6, 0.6])\n",
    "plt.title('Относительное изменение кумулятивного среднего чека группы B относительно группы A')\n",
    "plt.show()"
   ]
  },
  {
   "cell_type": "markdown",
   "metadata": {},
   "source": [
    "Динамика кумулятивных средних чеков в группах А и В свидетельствует о том, что средний чек в группе В превосходил средний чек в группе А более, чем на треть, в большей части месяца, и после 18 августа  в группе В был сильнейший скачок в стоимости заказов. В группе А средний чек более менее стабилизировался во второй половине месяца, в группе В средний чек продолжает серьезные флуктуации, нужно больше времени, чтобы увидеть его стабилизацию. Из-за \"дикого\" поведения среднего чека в группе В, относительный показатель также переживает волатильность на протяжении всего рассматриваемого месяца."
   ]
  },
  {
   "cell_type": "markdown",
   "metadata": {},
   "source": [
    "## Анализ выбросов"
   ]
  },
  {
   "cell_type": "markdown",
   "metadata": {},
   "source": [
    "### Количество заказов на покупателя"
   ]
  },
  {
   "cell_type": "markdown",
   "metadata": {},
   "source": [
    "Группируем табличку с числом заказов на каждого уникального покупателя."
   ]
  },
  {
   "cell_type": "code",
   "execution_count": 44,
   "metadata": {},
   "outputs": [
    {
     "data": {
      "text/html": [
       "<div>\n",
       "<style scoped>\n",
       "    .dataframe tbody tr th:only-of-type {\n",
       "        vertical-align: middle;\n",
       "    }\n",
       "\n",
       "    .dataframe tbody tr th {\n",
       "        vertical-align: top;\n",
       "    }\n",
       "\n",
       "    .dataframe thead th {\n",
       "        text-align: right;\n",
       "    }\n",
       "</style>\n",
       "<table border=\"1\" class=\"dataframe\">\n",
       "  <thead>\n",
       "    <tr style=\"text-align: right;\">\n",
       "      <th></th>\n",
       "      <th>visitor_id</th>\n",
       "      <th>orders_per_buyer</th>\n",
       "    </tr>\n",
       "  </thead>\n",
       "  <tbody>\n",
       "    <tr>\n",
       "      <th>830</th>\n",
       "      <td>3367493247</td>\n",
       "      <td>1</td>\n",
       "    </tr>\n",
       "    <tr>\n",
       "      <th>691</th>\n",
       "      <td>2853587382</td>\n",
       "      <td>1</td>\n",
       "    </tr>\n",
       "    <tr>\n",
       "      <th>889</th>\n",
       "      <td>3663170795</td>\n",
       "      <td>1</td>\n",
       "    </tr>\n",
       "  </tbody>\n",
       "</table>\n",
       "</div>"
      ],
      "text/plain": [
       "     visitor_id  orders_per_buyer\n",
       "830  3367493247                 1\n",
       "691  2853587382                 1\n",
       "889  3663170795                 1"
      ]
     },
     "execution_count": 44,
     "metadata": {},
     "output_type": "execute_result"
    }
   ],
   "source": [
    "orders_per_buyer = orders.groupby(['visitor_id']).agg({'transaction_id': 'count'}).reset_index()\n",
    "orders_per_buyer.columns = ['visitor_id', 'orders_per_buyer']\n",
    "orders_per_buyer.sample(3)"
   ]
  },
  {
   "cell_type": "code",
   "execution_count": 45,
   "metadata": {},
   "outputs": [],
   "source": [
    "orders_per_buyer_len = pd.Series(range(0,len(orders_per_buyer['visitor_id'])))"
   ]
  },
  {
   "cell_type": "code",
   "execution_count": 46,
   "metadata": {},
   "outputs": [
    {
     "data": {
      "image/png": "[encoded data removed]",
      "text/plain": [
       "<Figure size 936x360 with 1 Axes>"
      ]
     },
     "metadata": {
      "needs_background": "light"
     },
     "output_type": "display_data"
    }
   ],
   "source": [
    "plt.figure(figsize = (13, 5))\n",
    "plt.scatter(orders_per_buyer_len, orders_per_buyer['orders_per_buyer']) \n",
    "plt.title('Разброс числа заказов на покупателя')\n",
    "plt.xlabel('Число уникальных покупателей в выборке, чел.')\n",
    "plt.ylabel('Число заказов на одного покупателя, шт.')\n",
    "plt.show()"
   ]
  },
  {
   "cell_type": "markdown",
   "metadata": {},
   "source": [
    "Большинство покупателей сделали по одному заказу, есть толстая прослойка тех, кто сделал по два заказа, но также есть и такие, кто делал три, четыре, пять, и, даже, 11 заказов. Посмотрим, по сколько заказов сделали 90% людей из выборки, а также 95%, 98% и 99%."
   ]
  },
  {
   "cell_type": "markdown",
   "metadata": {},
   "source": [
    "Определим 90-й, 95-й, 98-й и 99-й перцентили числа заказов на покупателя:"
   ]
  },
  {
   "cell_type": "code",
   "execution_count": 47,
   "metadata": {},
   "outputs": [
    {
     "name": "stdout",
     "output_type": "stream",
     "text": [
      "[1. 2. 3. 4.]\n"
     ]
    }
   ],
   "source": [
    "print(np.percentile(orders_per_buyer['orders_per_buyer'], [90, 95, 98, 99])) "
   ]
  },
  {
   "cell_type": "markdown",
   "metadata": {},
   "source": [
    "Не более 5% уникальных пользователей сделали покупку за рассматриваемый период более 2 раз, не более 2% - более 3 раз, не более 1% - более 4 раз."
   ]
  },
  {
   "cell_type": "markdown",
   "metadata": {},
   "source": [
    "Для лучшей наглядности для принятия решения, какую границу в числе заказов принять за выброс, посмотрим \"покрупнее\" графики распределения покупателей, сделавших не более 4 заказов и не более 3 заказов:"
   ]
  },
  {
   "cell_type": "code",
   "execution_count": 48,
   "metadata": {},
   "outputs": [
    {
     "data": {
      "image/png": "[encoded data removed]",
      "text/plain": [
       "<Figure size 936x360 with 1 Axes>"
      ]
     },
     "metadata": {
      "needs_background": "light"
     },
     "output_type": "display_data"
    }
   ],
   "source": [
    "plt.figure(figsize = (13, 5))\n",
    "plt.scatter(orders_per_buyer_len, orders_per_buyer['orders_per_buyer']) \n",
    "plt.title('Разброс числа заказов на покупателя при ограничении до 4 заказов на чел.')\n",
    "plt.xlabel('Число уникальных покупателей в выборке, чел.')\n",
    "plt.ylabel('Число заказов на одного покупателя, шт.')\n",
    "plt.ylim (0, 4)\n",
    "plt.show()"
   ]
  },
  {
   "cell_type": "code",
   "execution_count": 49,
   "metadata": {},
   "outputs": [
    {
     "data": {
      "image/png": "[encoded data removed]",
      "text/plain": [
       "<Figure size 936x360 with 1 Axes>"
      ]
     },
     "metadata": {
      "needs_background": "light"
     },
     "output_type": "display_data"
    }
   ],
   "source": [
    "plt.figure(figsize = (13, 5))\n",
    "plt.scatter(orders_per_buyer_len, orders_per_buyer['orders_per_buyer']) \n",
    "plt.title('Разброс числа заказов на покупателя при ограничении до 3 заказов на чел.')\n",
    "plt.xlabel('Число уникальных покупателей в выборке, чел.')\n",
    "plt.ylabel('Число заказов на одного покупателя, шт.')\n",
    "plt.ylim (0, 3)\n",
    "plt.show()"
   ]
  },
  {
   "cell_type": "markdown",
   "metadata": {},
   "source": [
    "Датафрейм `orders` не так, чтобы очень большой, полагаю правильным предъявлять жесткие требования к сохранности данных, но 4 заказа - совсем уж редки, выбираю 98% персентиль. Аномальных покупателей определяю как покупателей, которые заказали > 3 раз за рассматриваемый период."
   ]
  },
  {
   "cell_type": "markdown",
   "metadata": {},
   "source": [
    "### Стоимость заказа"
   ]
  },
  {
   "cell_type": "markdown",
   "metadata": {},
   "source": [
    "Также рассматриваем разброс в стоимости заказов."
   ]
  },
  {
   "cell_type": "code",
   "execution_count": 50,
   "metadata": {},
   "outputs": [
    {
     "data": {
      "image/png": "[encoded data removed]",
      "text/plain": [
       "<Figure size 936x360 with 1 Axes>"
      ]
     },
     "metadata": {
      "needs_background": "light"
     },
     "output_type": "display_data"
    }
   ],
   "source": [
    "orders_len = pd.Series(range(0,len(orders['revenue'])))\n",
    "plt.figure(figsize = (13, 5))\n",
    "plt.scatter(orders_len, orders['revenue']) \n",
    "plt.title('Разброс в стоимости заказа')\n",
    "plt.xlabel('Число сделанных заказов, шт.')\n",
    "plt.ylabel('Стоимость 1 заказа, ден.ед.')\n",
    "plt.show()"
   ]
  },
  {
   "cell_type": "markdown",
   "metadata": {},
   "source": [
    "Из-за выбросов более 1200000 ден.ед. график большинства слишком мелкий, можно сказать только, что, в основном, не более 100000 ден.ед. за заказ."
   ]
  },
  {
   "cell_type": "markdown",
   "metadata": {},
   "source": [
    "Определим 90-й, 95-й, 98-й и 99-й перцентили стоимости заказа:"
   ]
  },
  {
   "cell_type": "code",
   "execution_count": 51,
   "metadata": {},
   "outputs": [
    {
     "name": "stdout",
     "output_type": "stream",
     "text": [
      "[18168.  28000.  44133.2 58233.2]\n"
     ]
    }
   ],
   "source": [
    "print(np.percentile(orders['revenue'], [90, 95, 98, 99]))"
   ]
  },
  {
   "cell_type": "markdown",
   "metadata": {},
   "source": [
    "Не более 5% заказов стоили более 28 тыс. ден.ед. Не более 2% заказов стоили больше 44133.2 ден.ед. Не более 1% заказов стоили более 58233.2 ден.ед., и случались даже заказы стоимостью более 1.2 млн. "
   ]
  },
  {
   "cell_type": "markdown",
   "metadata": {},
   "source": [
    "Посмотрим покрупнее графики распределения заказов стоимостью до 58 тыс.ден.ед./заказ и до 44 тыс.ден.ед./заказ:"
   ]
  },
  {
   "cell_type": "code",
   "execution_count": 52,
   "metadata": {},
   "outputs": [
    {
     "data": {
      "image/png": "[encoded data removed]",
      "text/plain": [
       "<Figure size 936x360 with 1 Axes>"
      ]
     },
     "metadata": {
      "needs_background": "light"
     },
     "output_type": "display_data"
    }
   ],
   "source": [
    "orders_len = pd.Series(range(0,len(orders['revenue'])))\n",
    "plt.figure(figsize = (13, 5))\n",
    "plt.scatter(orders_len, orders['revenue']) \n",
    "plt.title('Разброс в стоимости заказа при ограничении до 58000 ден.ед./заказ')\n",
    "plt.xlabel('Число сделанных заказов, шт.')\n",
    "plt.ylabel('Стоимость 1 заказа, ден.ед.')\n",
    "plt.ylim (0, 58000)\n",
    "plt.show()"
   ]
  },
  {
   "cell_type": "code",
   "execution_count": 53,
   "metadata": {},
   "outputs": [
    {
     "data": {
      "image/png": "[encoded data removed]",
      "text/plain": [
       "<Figure size 936x360 with 1 Axes>"
      ]
     },
     "metadata": {
      "needs_background": "light"
     },
     "output_type": "display_data"
    }
   ],
   "source": [
    "orders_len = pd.Series(range(0,len(orders['revenue'])))\n",
    "plt.figure(figsize = (13, 5))\n",
    "plt.scatter(orders_len, orders['revenue']) \n",
    "plt.title('Разброс в стоимости заказа при ограничении до 44000 ден.ед./заказ')\n",
    "plt.xlabel('Число сделанных заказов, шт.')\n",
    "plt.ylabel('Стоимость 1 заказа, ден.ед.')\n",
    "plt.ylim (0, 44000)\n",
    "plt.show()"
   ]
  },
  {
   "cell_type": "markdown",
   "metadata": {},
   "source": [
    "Число заказов дороже 40 тыс. наглядно \"редеет\". Выбираю 98% персентиль, буду считать аномальными заказы дороже 44 тыс. ден.ед."
   ]
  },
  {
   "cell_type": "markdown",
   "metadata": {},
   "source": [
    "## Статзначимость различий по \"сырым\" данным"
   ]
  },
  {
   "cell_type": "markdown",
   "metadata": {},
   "source": [
    "### Различия в конверсии"
   ]
  },
  {
   "cell_type": "code",
   "execution_count": 54,
   "metadata": {},
   "outputs": [
    {
     "data": {
      "text/html": [
       "<div>\n",
       "<style scoped>\n",
       "    .dataframe tbody tr th:only-of-type {\n",
       "        vertical-align: middle;\n",
       "    }\n",
       "\n",
       "    .dataframe tbody tr th {\n",
       "        vertical-align: top;\n",
       "    }\n",
       "\n",
       "    .dataframe thead th {\n",
       "        text-align: right;\n",
       "    }\n",
       "</style>\n",
       "<table border=\"1\" class=\"dataframe\">\n",
       "  <thead>\n",
       "    <tr style=\"text-align: right;\">\n",
       "      <th></th>\n",
       "      <th>date</th>\n",
       "      <th>orders_a_per_date</th>\n",
       "      <th>revenue_a_per_date</th>\n",
       "      <th>orders_b_per_date</th>\n",
       "      <th>revenue_b_per_date</th>\n",
       "      <th>orders_a_cumsum</th>\n",
       "      <th>revenue_a_cumsum</th>\n",
       "      <th>orders_b_cumsum</th>\n",
       "      <th>revenue_b_cumsum</th>\n",
       "      <th>visitors_a</th>\n",
       "      <th>visitors_b</th>\n",
       "      <th>visitors_a_cumsum</th>\n",
       "      <th>visitors_b_cumsum</th>\n",
       "      <th>conv_a_cumsum</th>\n",
       "      <th>conv_b_cumsum</th>\n",
       "      <th>avgbill_a_cumsum</th>\n",
       "      <th>avgbill_b_cumsum</th>\n",
       "      <th>conv_a</th>\n",
       "      <th>conv_b</th>\n",
       "    </tr>\n",
       "  </thead>\n",
       "  <tbody>\n",
       "    <tr>\n",
       "      <th>17</th>\n",
       "      <td>2019-08-18</td>\n",
       "      <td>17</td>\n",
       "      <td>72398</td>\n",
       "      <td>9</td>\n",
       "      <td>65831</td>\n",
       "      <td>328</td>\n",
       "      <td>2202167</td>\n",
       "      <td>382</td>\n",
       "      <td>2686621</td>\n",
       "      <td>668</td>\n",
       "      <td>737</td>\n",
       "      <td>11127</td>\n",
       "      <td>11171</td>\n",
       "      <td>0.029478</td>\n",
       "      <td>0.034196</td>\n",
       "      <td>6713.92378</td>\n",
       "      <td>7033.039267</td>\n",
       "      <td>0.025449</td>\n",
       "      <td>0.012212</td>\n",
       "    </tr>\n",
       "  </tbody>\n",
       "</table>\n",
       "</div>"
      ],
      "text/plain": [
       "         date  orders_a_per_date  revenue_a_per_date  orders_b_per_date  \\\n",
       "17 2019-08-18                 17               72398                  9   \n",
       "\n",
       "    revenue_b_per_date  orders_a_cumsum  revenue_a_cumsum  orders_b_cumsum  \\\n",
       "17               65831              328           2202167              382   \n",
       "\n",
       "    revenue_b_cumsum  visitors_a  visitors_b  visitors_a_cumsum  \\\n",
       "17           2686621         668         737              11127   \n",
       "\n",
       "    visitors_b_cumsum  conv_a_cumsum  conv_b_cumsum  avgbill_a_cumsum  \\\n",
       "17              11171       0.029478       0.034196        6713.92378   \n",
       "\n",
       "    avgbill_b_cumsum    conv_a    conv_b  \n",
       "17       7033.039267  0.025449  0.012212  "
      ]
     },
     "execution_count": 54,
     "metadata": {},
     "output_type": "execute_result"
    }
   ],
   "source": [
    "data['conv_a'] = data['orders_a_per_date'] / data['visitors_a']\n",
    "data['conv_b'] = data['orders_b_per_date'] / data['visitors_b']\n",
    "data.sample()"
   ]
  },
  {
   "cell_type": "markdown",
   "metadata": {},
   "source": [
    "#### Проверка на нормальность распределения конверсий"
   ]
  },
  {
   "cell_type": "markdown",
   "metadata": {},
   "source": [
    "Нормальность распределения конверсий в группе А:"
   ]
  },
  {
   "cell_type": "markdown",
   "metadata": {},
   "source": [
    "* H0: конверсии в группе А распределены нормально.\n",
    "* H1: конверсии в группе А не распределены нормально."
   ]
  },
  {
   "cell_type": "code",
   "execution_count": 55,
   "metadata": {},
   "outputs": [
    {
     "name": "stdout",
     "output_type": "stream",
     "text": [
      "p-значение:  0.18165241181850433\n",
      "Не получилось отвергнуть нулевую гипотезу о том, что конверсии в группе А распределены нормально.\n"
     ]
    }
   ],
   "source": [
    "alpha = 0.05  #критический уровень статистической значимости\n",
    "conv_shapiro_a = st.shapiro(data['conv_a']) #сама статистика с индексом 0 и p-value с индексом 1\n",
    "p_value_conv_shapiro_a = conv_shapiro_a[1]  #p-value\n",
    "\n",
    "print('p-значение: ', p_value_conv_shapiro_a)\n",
    "\n",
    "if p_value_conv_shapiro_a < alpha:\n",
    "    print('Отвергаем нулевую гипотезу о том, что конверсии в группе А распределены нормально.')\n",
    "else:\n",
    "    print('Не получилось отвергнуть нулевую гипотезу о том, что конверсии в группе А распределены нормально.')"
   ]
  },
  {
   "cell_type": "markdown",
   "metadata": {},
   "source": [
    "Нормальность распределения конверсий в группе B:"
   ]
  },
  {
   "cell_type": "markdown",
   "metadata": {},
   "source": [
    "* H0: конверсии в группе В распределены нормально.\n",
    "* H1: конверсии в группе В не распределены нормально."
   ]
  },
  {
   "cell_type": "code",
   "execution_count": 56,
   "metadata": {},
   "outputs": [
    {
     "name": "stdout",
     "output_type": "stream",
     "text": [
      "p-значение:  0.8641592860221863\n",
      "Не получилось отвергнуть нулевую гипотезу о том, что конверсии в группе В распределены нормально.\n"
     ]
    }
   ],
   "source": [
    "alpha = 0.05\n",
    "conv_shapiro_b = st.shapiro(data['conv_b'])\n",
    "p_value_conv_shapiro_b = conv_shapiro_b[1]\n",
    "\n",
    "print('p-значение: ', p_value_conv_shapiro_b)\n",
    "\n",
    "if p_value_conv_shapiro_b < alpha:\n",
    "    print('Отвергаем нулевую гипотезуо том, что конверсии в группе В распределены нормально.')\n",
    "else:\n",
    "    print('Не получилось отвергнуть нулевую гипотезу о том, что конверсии в группе В распределены нормально.')"
   ]
  },
  {
   "cell_type": "markdown",
   "metadata": {},
   "source": [
    "Считаем, что в случае конверсий обеих групп имеем дело с нормальными распределениями и проверяем значимость различий в них z-тестом."
   ]
  },
  {
   "cell_type": "markdown",
   "metadata": {},
   "source": [
    "#### Проверка значимости z-тестом"
   ]
  },
  {
   "cell_type": "markdown",
   "metadata": {},
   "source": [
    "По формуле z-статистики вручную."
   ]
  },
  {
   "cell_type": "markdown",
   "metadata": {},
   "source": [
    "Суммы по интересующим нас параметрам собраны в последней строке кумулятивных столбцов датафрейма `data`."
   ]
  },
  {
   "cell_type": "code",
   "execution_count": 57,
   "metadata": {},
   "outputs": [
    {
     "data": {
      "text/html": [
       "<div>\n",
       "<style scoped>\n",
       "    .dataframe tbody tr th:only-of-type {\n",
       "        vertical-align: middle;\n",
       "    }\n",
       "\n",
       "    .dataframe tbody tr th {\n",
       "        vertical-align: top;\n",
       "    }\n",
       "\n",
       "    .dataframe thead th {\n",
       "        text-align: right;\n",
       "    }\n",
       "</style>\n",
       "<table border=\"1\" class=\"dataframe\">\n",
       "  <thead>\n",
       "    <tr style=\"text-align: right;\">\n",
       "      <th></th>\n",
       "      <th>date</th>\n",
       "      <th>orders_a_per_date</th>\n",
       "      <th>revenue_a_per_date</th>\n",
       "      <th>orders_b_per_date</th>\n",
       "      <th>revenue_b_per_date</th>\n",
       "      <th>orders_a_cumsum</th>\n",
       "      <th>revenue_a_cumsum</th>\n",
       "      <th>orders_b_cumsum</th>\n",
       "      <th>revenue_b_cumsum</th>\n",
       "      <th>visitors_a</th>\n",
       "      <th>visitors_b</th>\n",
       "      <th>visitors_a_cumsum</th>\n",
       "      <th>visitors_b_cumsum</th>\n",
       "      <th>conv_a_cumsum</th>\n",
       "      <th>conv_b_cumsum</th>\n",
       "      <th>avgbill_a_cumsum</th>\n",
       "      <th>avgbill_b_cumsum</th>\n",
       "      <th>conv_a</th>\n",
       "      <th>conv_b</th>\n",
       "    </tr>\n",
       "  </thead>\n",
       "  <tbody>\n",
       "    <tr>\n",
       "      <th>30</th>\n",
       "      <td>2019-08-31</td>\n",
       "      <td>12</td>\n",
       "      <td>61833</td>\n",
       "      <td>20</td>\n",
       "      <td>133129</td>\n",
       "      <td>557</td>\n",
       "      <td>4084803</td>\n",
       "      <td>640</td>\n",
       "      <td>5907760</td>\n",
       "      <td>699</td>\n",
       "      <td>718</td>\n",
       "      <td>18736</td>\n",
       "      <td>18916</td>\n",
       "      <td>0.029729</td>\n",
       "      <td>0.033834</td>\n",
       "      <td>7333.578097</td>\n",
       "      <td>9230.875</td>\n",
       "      <td>0.017167</td>\n",
       "      <td>0.027855</td>\n",
       "    </tr>\n",
       "  </tbody>\n",
       "</table>\n",
       "</div>"
      ],
      "text/plain": [
       "         date  orders_a_per_date  revenue_a_per_date  orders_b_per_date  \\\n",
       "30 2019-08-31                 12               61833                 20   \n",
       "\n",
       "    revenue_b_per_date  orders_a_cumsum  revenue_a_cumsum  orders_b_cumsum  \\\n",
       "30              133129              557           4084803              640   \n",
       "\n",
       "    revenue_b_cumsum  visitors_a  visitors_b  visitors_a_cumsum  \\\n",
       "30           5907760         699         718              18736   \n",
       "\n",
       "    visitors_b_cumsum  conv_a_cumsum  conv_b_cumsum  avgbill_a_cumsum  \\\n",
       "30              18916       0.029729       0.033834       7333.578097   \n",
       "\n",
       "    avgbill_b_cumsum    conv_a    conv_b  \n",
       "30          9230.875  0.017167  0.027855  "
      ]
     },
     "execution_count": 57,
     "metadata": {},
     "output_type": "execute_result"
    }
   ],
   "source": [
    "data.tail(1)"
   ]
  },
  {
   "cell_type": "markdown",
   "metadata": {},
   "source": [
    "Выделяем преременные из последней строки таблицы `data`."
   ]
  },
  {
   "cell_type": "markdown",
   "metadata": {},
   "source": [
    "Общее число заказов в группах А и В за весь период, равно значению в последней строке `data`:"
   ]
  },
  {
   "cell_type": "code",
   "execution_count": 58,
   "metadata": {},
   "outputs": [],
   "source": [
    "success_a = data.loc[30, 'orders_a_cumsum']\n",
    "success_b = data.loc[30, 'orders_b_cumsum']"
   ]
  },
  {
   "cell_type": "markdown",
   "metadata": {},
   "source": [
    "Общее число визитов на сайт в группах А и В:"
   ]
  },
  {
   "cell_type": "code",
   "execution_count": 59,
   "metadata": {},
   "outputs": [],
   "source": [
    "trials_a = data.loc[30, 'visitors_a_cumsum']\n",
    "trials_b = data.loc[30, 'visitors_b_cumsum']"
   ]
  },
  {
   "cell_type": "markdown",
   "metadata": {},
   "source": [
    "Пропорция успехов в группах A и В - то есть конверсия групп - можно поделить success на trial или взять из `data`, где уже посчитано:"
   ]
  },
  {
   "cell_type": "code",
   "execution_count": 60,
   "metadata": {},
   "outputs": [],
   "source": [
    "conv_a = data.loc[30, 'conv_a_cumsum']\n",
    "conv_b = data.loc[30, 'conv_b_cumsum']"
   ]
  },
  {
   "cell_type": "markdown",
   "metadata": {},
   "source": [
    "Пропорция успехов - конверсия в обеих выборках вместе:"
   ]
  },
  {
   "cell_type": "code",
   "execution_count": 61,
   "metadata": {},
   "outputs": [],
   "source": [
    "conv_combined = (success_a + success_b)/ (trials_a + trials_b)"
   ]
  },
  {
   "cell_type": "markdown",
   "metadata": {},
   "source": [
    "Разница пропорций в датасетах:"
   ]
  },
  {
   "cell_type": "code",
   "execution_count": 62,
   "metadata": {},
   "outputs": [],
   "source": [
    "difference = conv_b - conv_a"
   ]
  },
  {
   "cell_type": "markdown",
   "metadata": {},
   "source": [
    "Считаем статистику Z в стандартных отклонениях стандартного нормального распределения: "
   ]
  },
  {
   "cell_type": "code",
   "execution_count": 63,
   "metadata": {},
   "outputs": [],
   "source": [
    "z_value = difference / mth.sqrt(conv_combined * (1 - conv_combined) * (1/trials_a + 1/trials_b))"
   ]
  },
  {
   "cell_type": "markdown",
   "metadata": {},
   "source": [
    "Задаем стандартное нормальное распределение (среднее 0, ст.отклонение 1)"
   ]
  },
  {
   "cell_type": "code",
   "execution_count": 64,
   "metadata": {},
   "outputs": [],
   "source": [
    "distr = st.norm(0, 1)"
   ]
  },
  {
   "cell_type": "markdown",
   "metadata": {},
   "source": [
    "Если бы пропорции были равны, разница между ними была бы равна нулю. Посчитаем, как далеко статистика уехала от нуля. Какова вероятность получить такое отличие или больше? Так как распределение статистики нормальное, вызовем метод cdf(). Саму статистику возьмём по модулю методом abs() — чтобы получить правильный результат независимо от её знака. Это возможно, потому что тест двусторонний. По этой же причине удваиваем результат."
   ]
  },
  {
   "cell_type": "markdown",
   "metadata": {},
   "source": [
    "* H0: конверсии в группах А и В не различаются.\n",
    "* H1: конверсии в группах А и В различаются."
   ]
  },
  {
   "cell_type": "code",
   "execution_count": 65,
   "metadata": {},
   "outputs": [
    {
     "name": "stdout",
     "output_type": "stream",
     "text": [
      "p-значение:  0.02320723394441848\n",
      "Отвергаем нулевую гипотезу о том, что конверсии в группах А и В не различаются. Между долями есть значимая разница.\n"
     ]
    }
   ],
   "source": [
    "alpha = 0.05\n",
    "p_value_conv_diff = (1 - distr.cdf(abs(z_value))) * 2\n",
    "print('p-значение: ', p_value_conv_diff)\n",
    "if p_value_conv_diff < alpha:\n",
    "    print('Отвергаем нулевую гипотезу о том, что конверсии в группах А и В не различаются. Между долями есть значимая разница.')\n",
    "else:\n",
    "    print('Не получилось отвергнуть нулевую гипотезу о том, что конверсии в группах А и В не различаются. Нет оснований считать доли разными.')"
   ]
  },
  {
   "cell_type": "markdown",
   "metadata": {},
   "source": [
    "Если посчитать с помощью встроенных методов библиотек:"
   ]
  },
  {
   "cell_type": "code",
   "execution_count": 66,
   "metadata": {},
   "outputs": [
    {
     "data": {
      "text/plain": [
       "0.02320723394441847"
      ]
     },
     "execution_count": 66,
     "metadata": {},
     "output_type": "execute_result"
    }
   ],
   "source": [
    "proportions_ztest((success_a, success_b), (trials_a, trials_b), value = 0)[1]"
   ]
  },
  {
   "cell_type": "markdown",
   "metadata": {},
   "source": [
    "Сошлось :)"
   ]
  },
  {
   "cell_type": "markdown",
   "metadata": {},
   "source": [
    "#### Относительный прирост конверсии группы B относительно конверсии группы А"
   ]
  },
  {
   "cell_type": "code",
   "execution_count": 67,
   "metadata": {},
   "outputs": [
    {
     "name": "stdout",
     "output_type": "stream",
     "text": [
      "0.138\n"
     ]
    }
   ],
   "source": [
    "relative_conversion = (conv_b / conv_a) - 1\n",
    "print(\"{0:.3f}\".format(relative_conversion))"
   ]
  },
  {
   "cell_type": "markdown",
   "metadata": {},
   "source": [
    "Установив с помощью теста Шапиро-Уилка, что в распределение конверсий в обеих группах нормально, проверили значимость различий в них z-тестом: отвергли нулевую гипотезу о том, что конверсии в группах А и В не различаются, и установили, что относительный прирост конверсии группы B относительно конверсии группы А в 13.8% является статистически значимым."
   ]
  },
  {
   "cell_type": "markdown",
   "metadata": {},
   "source": [
    "### Различия в чеке"
   ]
  },
  {
   "cell_type": "markdown",
   "metadata": {},
   "source": [
    "#### Проверка на нормальность распределения чеков"
   ]
  },
  {
   "cell_type": "markdown",
   "metadata": {},
   "source": [
    "* H0: чеки в группе А распределены нормально.\n",
    "* H1: чеки в группе А распределены ненормально."
   ]
  },
  {
   "cell_type": "code",
   "execution_count": 68,
   "metadata": {},
   "outputs": [
    {
     "name": "stdout",
     "output_type": "stream",
     "text": [
      "p-значение:  1.739703399801917e-34\n",
      "Отвергаем нулевую гипотезу о том, что чеки в группе А распределены нормально.\n"
     ]
    }
   ],
   "source": [
    "alpha = 0.05\n",
    "revenue_shapiro_a = st.shapiro(orders[orders['group']=='A']['revenue'])\n",
    "p_value_revenue_shapiro_a = revenue_shapiro_a[1]\n",
    "\n",
    "print('p-значение: ', p_value_revenue_shapiro_a)\n",
    "\n",
    "if p_value_revenue_shapiro_a < alpha:\n",
    "    print('Отвергаем нулевую гипотезу о том, что чеки в группе А распределены нормально.')\n",
    "else:\n",
    "    print('Не получилось отвергнуть нулевую гипотезу о том, что чеки в группе А распределены нормально.')"
   ]
  },
  {
   "cell_type": "markdown",
   "metadata": {},
   "source": [
    "* H0: чеки в группе В распределены нормально.\n",
    "* H1: чеки в группе В распределены ненормально."
   ]
  },
  {
   "cell_type": "code",
   "execution_count": 69,
   "metadata": {},
   "outputs": [
    {
     "name": "stdout",
     "output_type": "stream",
     "text": [
      "p-значение:  0.0\n",
      "Отвергаем нулевую гипотезу о том, что чеки в группе В распределены нормально.\n"
     ]
    }
   ],
   "source": [
    "alpha = 0.05\n",
    "revenue_shapiro_b = st.shapiro(orders[orders['group']=='B']['revenue'])\n",
    "p_value_revenue_shapiro_b = revenue_shapiro_b[1]\n",
    "\n",
    "print('p-значение: ', p_value_revenue_shapiro_b)\n",
    "\n",
    "if p_value_revenue_shapiro_b < alpha:\n",
    "    print('Отвергаем нулевую гипотезу о том, что чеки в группе В распределены нормально.')\n",
    "else:\n",
    "    print('Не получилось отвергнуть нулевую гипотезу о том, что чеки в группе B распределены нормально.')"
   ]
  },
  {
   "cell_type": "markdown",
   "metadata": {},
   "source": [
    "Интересно, для В настолько маленькая вероятность, что прямо полный ноль."
   ]
  },
  {
   "cell_type": "markdown",
   "metadata": {},
   "source": [
    "Для оценки стат.значимости различий нужен непараметрический тест."
   ]
  },
  {
   "cell_type": "markdown",
   "metadata": {},
   "source": [
    "#### Проверка значимости тестом Манна-Уитни"
   ]
  },
  {
   "cell_type": "markdown",
   "metadata": {},
   "source": [
    "* H0: чеки в группах А и В не различаются.\n",
    "* H1: чеки в группах А и В различаются."
   ]
  },
  {
   "cell_type": "code",
   "execution_count": 70,
   "metadata": {},
   "outputs": [
    {
     "name": "stdout",
     "output_type": "stream",
     "text": [
      "p-значение:  0.7292909855432458\n",
      "Не получилось отвергнуть нулевую гипотезу о том, что чеки в группах А и В не различаются. Вывод о различии средних чеков групп А и В сделать нельзя.\n"
     ]
    }
   ],
   "source": [
    "alpha = 0.05\n",
    "revenue_mannwhitneyu = st.mannwhitneyu(orders[orders['group']=='A']['revenue'], \\\n",
    "                                       orders[orders['group']=='B']['revenue'], alternative = 'two-sided')\n",
    "print('p-значение: ', revenue_mannwhitneyu.pvalue)\n",
    "\n",
    "if revenue_mannwhitneyu.pvalue < alpha:\n",
    "    print('Отвергаем нулевую гипотезу о том, что чеки в группах А и В не различаются: разница средних чеков статистически значима.')\n",
    "else:\n",
    "    print('Не получилось отвергнуть нулевую гипотезу о том, что чеки в группах А и В не различаются. Вывод о различии средних чеков групп А и В сделать нельзя.')"
   ]
  },
  {
   "cell_type": "markdown",
   "metadata": {},
   "source": [
    "#### Относительный прирост среднего чека группы B относительно среднего чека группы А"
   ]
  },
  {
   "cell_type": "code",
   "execution_count": 71,
   "metadata": {},
   "outputs": [
    {
     "name": "stdout",
     "output_type": "stream",
     "text": [
      "0.259\n"
     ]
    }
   ],
   "source": [
    "relative_mean_revenue = (orders[orders['group']=='B']['revenue'].mean()/orders[orders['group']=='A']['revenue'].mean()-1)\n",
    "print('{0:.3f}'.format(relative_mean_revenue))"
   ]
  },
  {
   "cell_type": "markdown",
   "metadata": {},
   "source": [
    "Установив с помощью теста Шапиро-Уилка, что распределение чеков в обеих группах ненормально, для оценки стат.значимости различий использовали непараметрический тест Манна-Уитни, в результате которого установили, что вывод о различии чеков групп А и В (превышении среднего чека группы В над средним чеком группы А на 25.9%) нельзя считать стат.значимым - это говорит о том, что есть аномалии, к которым критерий Манна-Уитни не чувствителен."
   ]
  },
  {
   "cell_type": "markdown",
   "metadata": {},
   "source": [
    "### Различия в среднедневном чеке (*факультативно*)"
   ]
  },
  {
   "cell_type": "code",
   "execution_count": 72,
   "metadata": {},
   "outputs": [
    {
     "data": {
      "text/html": [
       "<div>\n",
       "<style scoped>\n",
       "    .dataframe tbody tr th:only-of-type {\n",
       "        vertical-align: middle;\n",
       "    }\n",
       "\n",
       "    .dataframe tbody tr th {\n",
       "        vertical-align: top;\n",
       "    }\n",
       "\n",
       "    .dataframe thead th {\n",
       "        text-align: right;\n",
       "    }\n",
       "</style>\n",
       "<table border=\"1\" class=\"dataframe\">\n",
       "  <thead>\n",
       "    <tr style=\"text-align: right;\">\n",
       "      <th></th>\n",
       "      <th>date</th>\n",
       "      <th>orders_a_per_date</th>\n",
       "      <th>revenue_a_per_date</th>\n",
       "      <th>orders_b_per_date</th>\n",
       "      <th>revenue_b_per_date</th>\n",
       "      <th>orders_a_cumsum</th>\n",
       "      <th>revenue_a_cumsum</th>\n",
       "      <th>orders_b_cumsum</th>\n",
       "      <th>revenue_b_cumsum</th>\n",
       "      <th>visitors_a</th>\n",
       "      <th>visitors_b</th>\n",
       "      <th>visitors_a_cumsum</th>\n",
       "      <th>visitors_b_cumsum</th>\n",
       "      <th>conv_a_cumsum</th>\n",
       "      <th>conv_b_cumsum</th>\n",
       "      <th>avgbill_a_cumsum</th>\n",
       "      <th>avgbill_b_cumsum</th>\n",
       "      <th>conv_a</th>\n",
       "      <th>conv_b</th>\n",
       "      <th>avgbill_a</th>\n",
       "      <th>avgbill_b</th>\n",
       "    </tr>\n",
       "  </thead>\n",
       "  <tbody>\n",
       "    <tr>\n",
       "      <th>19</th>\n",
       "      <td>2019-08-20</td>\n",
       "      <td>12</td>\n",
       "      <td>77619</td>\n",
       "      <td>20</td>\n",
       "      <td>147274</td>\n",
       "      <td>362</td>\n",
       "      <td>2469529</td>\n",
       "      <td>423</td>\n",
       "      <td>4263815</td>\n",
       "      <td>575</td>\n",
       "      <td>560</td>\n",
       "      <td>12204</td>\n",
       "      <td>12218</td>\n",
       "      <td>0.029662</td>\n",
       "      <td>0.034621</td>\n",
       "      <td>6821.903315</td>\n",
       "      <td>10079.940898</td>\n",
       "      <td>0.02087</td>\n",
       "      <td>0.035714</td>\n",
       "      <td>6468.25</td>\n",
       "      <td>7363.7</td>\n",
       "    </tr>\n",
       "  </tbody>\n",
       "</table>\n",
       "</div>"
      ],
      "text/plain": [
       "         date  orders_a_per_date  revenue_a_per_date  orders_b_per_date  \\\n",
       "19 2019-08-20                 12               77619                 20   \n",
       "\n",
       "    revenue_b_per_date  orders_a_cumsum  revenue_a_cumsum  orders_b_cumsum  \\\n",
       "19              147274              362           2469529              423   \n",
       "\n",
       "    revenue_b_cumsum  visitors_a  visitors_b  visitors_a_cumsum  \\\n",
       "19           4263815         575         560              12204   \n",
       "\n",
       "    visitors_b_cumsum  conv_a_cumsum  conv_b_cumsum  avgbill_a_cumsum  \\\n",
       "19              12218       0.029662       0.034621       6821.903315   \n",
       "\n",
       "    avgbill_b_cumsum   conv_a    conv_b  avgbill_a  avgbill_b  \n",
       "19      10079.940898  0.02087  0.035714    6468.25     7363.7  "
      ]
     },
     "execution_count": 72,
     "metadata": {},
     "output_type": "execute_result"
    }
   ],
   "source": [
    "data['avgbill_a'] = data['revenue_a_per_date'] / data['orders_a_per_date'] \n",
    "data['avgbill_b'] = data['revenue_b_per_date'] / data['orders_b_per_date'] \n",
    "data.sample()"
   ]
  },
  {
   "cell_type": "markdown",
   "metadata": {},
   "source": [
    "#### Проверка на нормальность распределения среднедневных чеков"
   ]
  },
  {
   "cell_type": "markdown",
   "metadata": {},
   "source": [
    "* H0: среднедневные чеки в группе А распределены нормально.\n",
    "* H1: среднедневные чеки в группе А распределены ненормально."
   ]
  },
  {
   "cell_type": "code",
   "execution_count": 73,
   "metadata": {},
   "outputs": [
    {
     "name": "stdout",
     "output_type": "stream",
     "text": [
      "p-значение:  0.002177748829126358\n",
      "Отвергаем нулевую гипотезу о том, что среднедневные чеки в группе А распределены нормально.\n"
     ]
    }
   ],
   "source": [
    "alpha = 0.05\n",
    "avgbill_shapiro_a = st.shapiro(data['avgbill_a'])\n",
    "p_value_avgbill_shapiro_a = avgbill_shapiro_a[1]\n",
    "\n",
    "print('p-значение: ', p_value_avgbill_shapiro_a)\n",
    "\n",
    "if p_value_avgbill_shapiro_a < alpha:\n",
    "    print('Отвергаем нулевую гипотезу о том, что среднедневные чеки в группе А распределены нормально.')\n",
    "else:\n",
    "    print('Не получилось отвергнуть нулевую гипотезу о том, что среднедневные чеки в группе А распределены нормально.')"
   ]
  },
  {
   "cell_type": "markdown",
   "metadata": {},
   "source": [
    "* H0: среднедневные чеки в группе В распределены нормально.\n",
    "* H1: среднедневные чеки в группе В распределены ненормально."
   ]
  },
  {
   "cell_type": "code",
   "execution_count": 74,
   "metadata": {},
   "outputs": [
    {
     "name": "stdout",
     "output_type": "stream",
     "text": [
      "p-значение:  8.517624106030297e-11\n",
      "Отвергаем нулевую гипотезу о том, что среднедневные чеки в группе В распределены нормально.\n"
     ]
    }
   ],
   "source": [
    "alpha = 0.05\n",
    "avgbill_shapiro_b = st.shapiro(data['avgbill_b'])\n",
    "p_value_avgbill_shapiro_b = avgbill_shapiro_b[1]\n",
    "\n",
    "print('p-значение: ', p_value_avgbill_shapiro_b)\n",
    "\n",
    "if p_value_avgbill_shapiro_b < alpha:\n",
    "    print('Отвергаем нулевую гипотезу о том, что среднедневные чеки в группе В распределены нормально.')\n",
    "else:\n",
    "    print('Не получилось отвергнуть нулевую гипотезу о том, что среднедневные чеки в группе В распределены нормально.')"
   ]
  },
  {
   "cell_type": "markdown",
   "metadata": {},
   "source": [
    "Для оценки стат.значимости различий нужен непараметрический тест."
   ]
  },
  {
   "cell_type": "markdown",
   "metadata": {},
   "source": [
    "#### Проверка значимости тестом Манна-Уитни"
   ]
  },
  {
   "cell_type": "markdown",
   "metadata": {},
   "source": [
    "* H0: среднедневные чеки в группах А и В не различаются.\n",
    "* H1: среднедневные чеки в группах А и В различаются."
   ]
  },
  {
   "cell_type": "code",
   "execution_count": 75,
   "metadata": {},
   "outputs": [
    {
     "name": "stdout",
     "output_type": "stream",
     "text": [
      "p-значение:  0.4061793814634298\n",
      "Не получилось отвергнуть нулевую гипотезу о том, что среднедневные чеки в группах А и В не различаются. Вывод о различии средних чеков групп А и В сделать не можем.\n"
     ]
    }
   ],
   "source": [
    "alpha = 0.05\n",
    "avgbill_mannwhitneyu = st.mannwhitneyu(data['avgbill_a'], data['avgbill_b'], alternative = 'two-sided')\n",
    "\n",
    "print('p-значение: ', avgbill_mannwhitneyu.pvalue)\n",
    "\n",
    "if avgbill_mannwhitneyu.pvalue < alpha:\n",
    "    print('Отвергаем нулевую гипотезу о том, что среднедневные чеки в группах А и В не различаются: разница средних чеков статистически значима.')\n",
    "else:\n",
    "    print('Не получилось отвергнуть нулевую гипотезу о том, что среднедневные чеки в группах А и В не различаются. Вывод о различии средних чеков групп А и В сделать не можем.')"
   ]
  },
  {
   "cell_type": "markdown",
   "metadata": {},
   "source": [
    "#### Относительный прирост среднего среднедневного чека группы B относительно среднего среднедневного чека группы А"
   ]
  },
  {
   "cell_type": "code",
   "execution_count": 76,
   "metadata": {},
   "outputs": [
    {
     "name": "stdout",
     "output_type": "stream",
     "text": [
      "0.244\n"
     ]
    }
   ],
   "source": [
    "relative_mean_avgbill = (data['avgbill_b'].mean()/data['avgbill_a'].mean())-1\n",
    "print('{0:.3f}'.format(relative_mean_avgbill))"
   ]
  },
  {
   "cell_type": "markdown",
   "metadata": {},
   "source": [
    "Установив с помощью теста Шапиро-Уилка, что распределение среднедневных чеков в обеих группах ненормально, для оценки стат.значимости различий использовали непараметрический тест Манна-Уитни, в результате которого установили, что вывод о различии среднедневных чеков групп А и В (превышении среднего среднедневного чека группы В над средним среднедневным чеком группы А на 24.4%) нельзя считать стат.значимым."
   ]
  },
  {
   "cell_type": "markdown",
   "metadata": {},
   "source": [
    "## Стат.значимость различий по \"очищенным\" данным"
   ]
  },
  {
   "cell_type": "markdown",
   "metadata": {},
   "source": [
    "### Удаление выбросов: `data_cut`"
   ]
  },
  {
   "cell_type": "markdown",
   "metadata": {},
   "source": [
    "У нас уже была табличка с числом заказов на покупателя:"
   ]
  },
  {
   "cell_type": "code",
   "execution_count": 77,
   "metadata": {},
   "outputs": [
    {
     "data": {
      "text/html": [
       "<div>\n",
       "<style scoped>\n",
       "    .dataframe tbody tr th:only-of-type {\n",
       "        vertical-align: middle;\n",
       "    }\n",
       "\n",
       "    .dataframe tbody tr th {\n",
       "        vertical-align: top;\n",
       "    }\n",
       "\n",
       "    .dataframe thead th {\n",
       "        text-align: right;\n",
       "    }\n",
       "</style>\n",
       "<table border=\"1\" class=\"dataframe\">\n",
       "  <thead>\n",
       "    <tr style=\"text-align: right;\">\n",
       "      <th></th>\n",
       "      <th>visitor_id</th>\n",
       "      <th>orders_per_buyer</th>\n",
       "    </tr>\n",
       "  </thead>\n",
       "  <tbody>\n",
       "    <tr>\n",
       "      <th>577</th>\n",
       "      <td>2406897935</td>\n",
       "      <td>1</td>\n",
       "    </tr>\n",
       "    <tr>\n",
       "      <th>219</th>\n",
       "      <td>916684595</td>\n",
       "      <td>1</td>\n",
       "    </tr>\n",
       "  </tbody>\n",
       "</table>\n",
       "</div>"
      ],
      "text/plain": [
       "     visitor_id  orders_per_buyer\n",
       "577  2406897935                 1\n",
       "219   916684595                 1"
      ]
     },
     "execution_count": 77,
     "metadata": {},
     "output_type": "execute_result"
    }
   ],
   "source": [
    "orders_per_buyer.sample(2)"
   ]
  },
  {
   "cell_type": "markdown",
   "metadata": {},
   "source": [
    "Удалим из нее покупателей с заказами больше 3:"
   ]
  },
  {
   "cell_type": "code",
   "execution_count": 78,
   "metadata": {},
   "outputs": [
    {
     "data": {
      "text/plain": [
       "1018"
      ]
     },
     "execution_count": 78,
     "metadata": {},
     "output_type": "execute_result"
    }
   ],
   "source": [
    "orders_per_buyer_norm = orders_per_buyer.query('orders_per_buyer <=3')\n",
    "len(orders_per_buyer_norm)"
   ]
  },
  {
   "cell_type": "markdown",
   "metadata": {},
   "source": [
    "Обрежем датафрейм с заказами, оставив только покупателей с числом заказов не более 3 и суммами заказов не более 44000 ден.ед:"
   ]
  },
  {
   "cell_type": "code",
   "execution_count": 79,
   "metadata": {},
   "outputs": [
    {
     "data": {
      "text/plain": [
       "1095"
      ]
     },
     "execution_count": 79,
     "metadata": {},
     "output_type": "execute_result"
    }
   ],
   "source": [
    "orders_cut = orders.query('visitor_id in @orders_per_buyer_norm.visitor_id & revenue <= 44000')\n",
    "len(orders_cut)"
   ]
  },
  {
   "cell_type": "markdown",
   "metadata": {},
   "source": [
    "Как распределились уникальные покупатели в группах А и В после удаления выбросов:"
   ]
  },
  {
   "cell_type": "code",
   "execution_count": 80,
   "metadata": {},
   "outputs": [
    {
     "data": {
      "text/html": [
       "<div>\n",
       "<style scoped>\n",
       "    .dataframe tbody tr th:only-of-type {\n",
       "        vertical-align: middle;\n",
       "    }\n",
       "\n",
       "    .dataframe tbody tr th {\n",
       "        vertical-align: top;\n",
       "    }\n",
       "\n",
       "    .dataframe thead th {\n",
       "        text-align: right;\n",
       "    }\n",
       "</style>\n",
       "<table border=\"1\" class=\"dataframe\">\n",
       "  <thead>\n",
       "    <tr style=\"text-align: right;\">\n",
       "      <th></th>\n",
       "      <th>group</th>\n",
       "      <th>visitor_id_nunique</th>\n",
       "      <th>orders</th>\n",
       "    </tr>\n",
       "  </thead>\n",
       "  <tbody>\n",
       "    <tr>\n",
       "      <th>0</th>\n",
       "      <td>A</td>\n",
       "      <td>478</td>\n",
       "      <td>504</td>\n",
       "    </tr>\n",
       "    <tr>\n",
       "      <th>1</th>\n",
       "      <td>B</td>\n",
       "      <td>565</td>\n",
       "      <td>591</td>\n",
       "    </tr>\n",
       "  </tbody>\n",
       "</table>\n",
       "</div>"
      ],
      "text/plain": [
       "  group  visitor_id_nunique  orders\n",
       "0     A                 478     504\n",
       "1     B                 565     591"
      ]
     },
     "execution_count": 80,
     "metadata": {},
     "output_type": "execute_result"
    }
   ],
   "source": [
    "records_by_groups_cut = orders_cut.groupby(['group'], as_index=False)[['visitor_id']].agg(['nunique','count']).reset_index()\n",
    "records_by_groups_cut.columns = records_by_groups_cut.columns.droplevel(level=1)\n",
    "records_by_groups_cut.set_axis(['group', 'visitor_id_nunique', 'orders'], axis = 'columns', inplace = True)\n",
    "records_by_groups_cut.set_index('group')\n",
    "records_by_groups_cut"
   ]
  },
  {
   "cell_type": "markdown",
   "metadata": {},
   "source": [
    "Численность в группе В продолжает преобладать, в группе А 478 уникальных покупателя, в группе В - 565 уникальных покупателей."
   ]
  },
  {
   "cell_type": "markdown",
   "metadata": {},
   "source": [
    "Сформируем датафрейм data_cut по аналогии с датафреймом data:"
   ]
  },
  {
   "cell_type": "code",
   "execution_count": 81,
   "metadata": {},
   "outputs": [],
   "source": [
    "orders_cut_a_daily = (\n",
    "    orders_cut[orders_cut['group'] == 'A'][['date', 'transaction_id', 'visitor_id', 'revenue']]\n",
    "    .groupby('date', as_index=False)\n",
    "    .agg({'transaction_id': pd.Series.nunique, 'revenue': 'sum'})\n",
    ")\n",
    "orders_cut_a_daily.columns = ['date', 'orders_a_per_date', 'revenue_a_per_date']"
   ]
  },
  {
   "cell_type": "code",
   "execution_count": 82,
   "metadata": {},
   "outputs": [],
   "source": [
    "orders_cut_b_daily = (\n",
    "    orders_cut[orders_cut['group'] == 'B'][['date', 'transaction_id', 'visitor_id', 'revenue']]\n",
    "    .groupby('date', as_index=False)\n",
    "    .agg({'transaction_id': pd.Series.nunique, 'revenue': 'sum'})\n",
    ")\n",
    "orders_cut_b_daily.columns = ['date', 'orders_b_per_date', 'revenue_b_per_date']"
   ]
  },
  {
   "cell_type": "code",
   "execution_count": 83,
   "metadata": {},
   "outputs": [],
   "source": [
    "orders_cut_a_cumsum = orders_cut_a_daily.apply(\n",
    "    lambda x: orders_cut_a_daily[orders_cut_a_daily['date'] <= x['date']].agg(\n",
    "        {'date': 'max', 'orders_a_per_date': 'sum', 'revenue_a_per_date': 'sum'}\n",
    "    ),\n",
    "    axis=1,\n",
    ").sort_values(by=['date'])\n",
    "orders_cut_a_cumsum.columns = [\n",
    "    'date',\n",
    "    'orders_a_cumsum',\n",
    "    'revenue_a_cumsum',\n",
    "]"
   ]
  },
  {
   "cell_type": "code",
   "execution_count": 84,
   "metadata": {},
   "outputs": [],
   "source": [
    "orders_cut_b_cumsum = orders_cut_b_daily.apply(\n",
    "    lambda x: orders_cut_b_daily[orders_cut_b_daily['date'] <= x['date']].agg(\n",
    "        {'date': 'max', 'orders_b_per_date': 'sum', 'revenue_b_per_date': 'sum'}\n",
    "    ),\n",
    "    axis=1,\n",
    ").sort_values(by=['date'])\n",
    "orders_cut_b_cumsum.columns = [\n",
    "    'date',\n",
    "    'orders_b_cumsum',\n",
    "    'revenue_b_cumsum',\n",
    "]"
   ]
  },
  {
   "cell_type": "code",
   "execution_count": 85,
   "metadata": {},
   "outputs": [],
   "source": [
    "data_cut = (\n",
    "    orders_cut_a_daily\n",
    "    .merge(orders_cut_b_daily, left_on='date', right_on='date', how='left')\n",
    "    .merge(orders_cut_a_cumsum, left_on='date', right_on='date', how='left')\n",
    "    .merge(orders_cut_b_cumsum, left_on='date', right_on='date', how='left')\n",
    "    .merge(visitors_a, left_on='date', right_on='date', how='left')\n",
    "    .merge(visitors_b, left_on='date', right_on='date', how='left')\n",
    "    .merge(visitors_a_cumsum, left_on='date', right_on='date', how='left')\n",
    "    .merge(visitors_b_cumsum, left_on='date', right_on='date', how='left')\n",
    ")"
   ]
  },
  {
   "cell_type": "code",
   "execution_count": 86,
   "metadata": {},
   "outputs": [],
   "source": [
    "data_cut['conv_a'] = data_cut['orders_a_per_date'] / data_cut['visitors_a']\n",
    "data_cut['conv_b'] = data_cut['orders_b_per_date'] / data_cut['visitors_b']\n",
    "data_cut['conv_a_cumsum'] = data_cut['orders_a_cumsum'] / data_cut['visitors_a_cumsum']\n",
    "data_cut['conv_b_cumsum'] = data_cut['orders_b_cumsum'] / data_cut['visitors_b_cumsum']\n",
    "data_cut['avgbill_a'] = data_cut['revenue_a_per_date'] / data_cut['orders_a_per_date']\n",
    "data_cut['avgbill_b'] = data_cut['revenue_b_per_date'] / data_cut['orders_b_per_date']\n",
    "data_cut['avgbill_a_cumsum'] = data_cut['revenue_a_cumsum'] / data_cut['orders_a_cumsum']\n",
    "data_cut['avgbill_b_cumsum'] = data_cut['revenue_b_cumsum'] / data_cut['orders_b_cumsum']"
   ]
  },
  {
   "cell_type": "markdown",
   "metadata": {},
   "source": [
    "В последней строке датафрейма собраны все необходимые нам кумулятивные метрики:"
   ]
  },
  {
   "cell_type": "code",
   "execution_count": 87,
   "metadata": {},
   "outputs": [
    {
     "data": {
      "text/html": [
       "<div>\n",
       "<style scoped>\n",
       "    .dataframe tbody tr th:only-of-type {\n",
       "        vertical-align: middle;\n",
       "    }\n",
       "\n",
       "    .dataframe tbody tr th {\n",
       "        vertical-align: top;\n",
       "    }\n",
       "\n",
       "    .dataframe thead th {\n",
       "        text-align: right;\n",
       "    }\n",
       "</style>\n",
       "<table border=\"1\" class=\"dataframe\">\n",
       "  <thead>\n",
       "    <tr style=\"text-align: right;\">\n",
       "      <th></th>\n",
       "      <th>date</th>\n",
       "      <th>orders_a_per_date</th>\n",
       "      <th>revenue_a_per_date</th>\n",
       "      <th>orders_b_per_date</th>\n",
       "      <th>revenue_b_per_date</th>\n",
       "      <th>orders_a_cumsum</th>\n",
       "      <th>revenue_a_cumsum</th>\n",
       "      <th>orders_b_cumsum</th>\n",
       "      <th>revenue_b_cumsum</th>\n",
       "      <th>visitors_a</th>\n",
       "      <th>visitors_b</th>\n",
       "      <th>visitors_a_cumsum</th>\n",
       "      <th>visitors_b_cumsum</th>\n",
       "      <th>conv_a</th>\n",
       "      <th>conv_b</th>\n",
       "      <th>conv_a_cumsum</th>\n",
       "      <th>conv_b_cumsum</th>\n",
       "      <th>avgbill_a</th>\n",
       "      <th>avgbill_b</th>\n",
       "      <th>avgbill_a_cumsum</th>\n",
       "      <th>avgbill_b_cumsum</th>\n",
       "    </tr>\n",
       "  </thead>\n",
       "  <tbody>\n",
       "    <tr>\n",
       "      <th>30</th>\n",
       "      <td>2019-08-31</td>\n",
       "      <td>11</td>\n",
       "      <td>56663</td>\n",
       "      <td>19</td>\n",
       "      <td>131279</td>\n",
       "      <td>504</td>\n",
       "      <td>3027569</td>\n",
       "      <td>591</td>\n",
       "      <td>3652111</td>\n",
       "      <td>699</td>\n",
       "      <td>718</td>\n",
       "      <td>18736</td>\n",
       "      <td>18916</td>\n",
       "      <td>0.015737</td>\n",
       "      <td>0.026462</td>\n",
       "      <td>0.0269</td>\n",
       "      <td>0.031243</td>\n",
       "      <td>5151.181818</td>\n",
       "      <td>6909.421053</td>\n",
       "      <td>6007.081349</td>\n",
       "      <td>6179.544839</td>\n",
       "    </tr>\n",
       "  </tbody>\n",
       "</table>\n",
       "</div>"
      ],
      "text/plain": [
       "         date  orders_a_per_date  revenue_a_per_date  orders_b_per_date  \\\n",
       "30 2019-08-31                 11               56663                 19   \n",
       "\n",
       "    revenue_b_per_date  orders_a_cumsum  revenue_a_cumsum  orders_b_cumsum  \\\n",
       "30              131279              504           3027569              591   \n",
       "\n",
       "    revenue_b_cumsum  visitors_a  visitors_b  visitors_a_cumsum  \\\n",
       "30           3652111         699         718              18736   \n",
       "\n",
       "    visitors_b_cumsum    conv_a    conv_b  conv_a_cumsum  conv_b_cumsum  \\\n",
       "30              18916  0.015737  0.026462         0.0269       0.031243   \n",
       "\n",
       "      avgbill_a    avgbill_b  avgbill_a_cumsum  avgbill_b_cumsum  \n",
       "30  5151.181818  6909.421053       6007.081349       6179.544839  "
      ]
     },
     "execution_count": 87,
     "metadata": {},
     "output_type": "execute_result"
    }
   ],
   "source": [
    "data_cut.tail(1)"
   ]
  },
  {
   "cell_type": "markdown",
   "metadata": {},
   "source": [
    "### Различия в конверсии: проверка значимости z-тестом"
   ]
  },
  {
   "cell_type": "markdown",
   "metadata": {},
   "source": [
    "Еще до удаления выбросов конверсии в группах А и В были распределены нормально, считаем, что после удаления выбросов, нормальность распределений не уменьшилась. Проверяем значимость различий в конверсии в группах А и В после удаления выбросов z-тестом:"
   ]
  },
  {
   "cell_type": "markdown",
   "metadata": {},
   "source": [
    "* H0: после очистки от выбросов конверсии в группах А и В не различаются.\n",
    "* H1: после очистки от выбросов конверсии в группах А и В различаются."
   ]
  },
  {
   "cell_type": "code",
   "execution_count": 88,
   "metadata": {},
   "outputs": [
    {
     "name": "stdout",
     "output_type": "stream",
     "text": [
      "p-значение:  0.01215204360998916\n",
      "Отвергаем нулевую гипотезу о том, что после очистки от выбросов конверсии в группах А и В не различаются. Между долями есть значимая разница.\n"
     ]
    }
   ],
   "source": [
    "alpha = 0.05\n",
    "p_value_conv_diff_cut = proportions_ztest((data_cut.loc[30, 'orders_a_cumsum'], data_cut.loc[30, 'orders_b_cumsum']), (data_cut.loc[30, 'visitors_a_cumsum'], data_cut.loc[30, 'visitors_b_cumsum']), value = 0)[1]\n",
    "print('p-значение: ', p_value_conv_diff_cut)\n",
    "if p_value_conv_diff_cut < alpha:\n",
    "    print('Отвергаем нулевую гипотезу о том, что после очистки от выбросов конверсии в группах А и В не различаются. Между долями есть значимая разница.')\n",
    "else:\n",
    "    print('Не получилось отвергнуть нулевую гипотезу о том, что после очистки от выбросов конверсии в группах А и В не различаются. Нет оснований считать доли разными.')"
   ]
  },
  {
   "cell_type": "markdown",
   "metadata": {},
   "source": [
    "Относительный прирост конверсии группы B относительно конверсии группы А:"
   ]
  },
  {
   "cell_type": "code",
   "execution_count": 89,
   "metadata": {},
   "outputs": [
    {
     "name": "stdout",
     "output_type": "stream",
     "text": [
      "0.161\n"
     ]
    }
   ],
   "source": [
    "data_cut_relative_conversion = (data_cut.loc[30, 'conv_b_cumsum'] / data_cut.loc[30, 'conv_a_cumsum']) - 1\n",
    "print(\"{0:.3f}\".format(data_cut_relative_conversion))"
   ]
  },
  {
   "cell_type": "markdown",
   "metadata": {},
   "source": [
    "Полагая распределение конверсий в обеих группах А/В теста после отсечения выбросов нормальным, проверили значимость различий в них z-тестом: отвергли нулевую гипотезу о том, что конверсии в группах А и В не различаются, и установили, что относительный прирост конверсии группы B относительно конверсии группы А в 16.1% является статистически значимым."
   ]
  },
  {
   "cell_type": "markdown",
   "metadata": {},
   "source": [
    "### Различия в чеке"
   ]
  },
  {
   "cell_type": "markdown",
   "metadata": {},
   "source": [
    "#### Проверка на нормальность распределения чеков"
   ]
  },
  {
   "cell_type": "markdown",
   "metadata": {},
   "source": [
    "* H0: после удаления выбросов чеки в группе А распределены нормально.\n",
    "* H1: после удаления выбросов чеки в группе А распределены ненормально."
   ]
  },
  {
   "cell_type": "code",
   "execution_count": 90,
   "metadata": {},
   "outputs": [
    {
     "name": "stdout",
     "output_type": "stream",
     "text": [
      "p-значение:  1.3806552659284774e-27\n",
      "Отвергаем нулевую гипотезу о том, что чеки в группе А распределены нормально.\n"
     ]
    }
   ],
   "source": [
    "alpha = 0.05\n",
    "revenue_cut_shapiro_a = st.shapiro(orders_cut[orders_cut['group']=='A']['revenue'])\n",
    "p_value_revenue_cut_shapiro_a = revenue_cut_shapiro_a[1]\n",
    "\n",
    "print('p-значение: ', p_value_revenue_cut_shapiro_a)\n",
    "\n",
    "if p_value_revenue_cut_shapiro_a < alpha:\n",
    "    print('Отвергаем нулевую гипотезу о том, что чеки в группе А распределены нормально.')\n",
    "else:\n",
    "    print('Не получилось отвергнуть нулевую гипотезу о том, что чеки в группе А распределены нормально.')"
   ]
  },
  {
   "cell_type": "markdown",
   "metadata": {},
   "source": [
    "* H0: после удаления выбросов чеки в группе В распределены нормально.\n",
    "* H1: после удаления выбросов чеки в группе В распределены ненормально."
   ]
  },
  {
   "cell_type": "code",
   "execution_count": 91,
   "metadata": {},
   "outputs": [
    {
     "name": "stdout",
     "output_type": "stream",
     "text": [
      "p-значение:  1.5928422412964247e-30\n",
      "Отвергаем нулевую гипотезу о том, что чеки в группе В распределены нормально.\n"
     ]
    }
   ],
   "source": [
    "alpha = 0.05\n",
    "revenue_cut_shapiro_b = st.shapiro(orders_cut[orders_cut['group']=='B']['revenue'])\n",
    "p_value_revenue_cut_shapiro_b = revenue_cut_shapiro_b[1]\n",
    "\n",
    "print('p-значение: ', p_value_revenue_cut_shapiro_b)\n",
    "\n",
    "if p_value_revenue_cut_shapiro_b < alpha:\n",
    "    print('Отвергаем нулевую гипотезу о том, что чеки в группе В распределены нормально.')\n",
    "else:\n",
    "    print('Не получилось отвергнуть нулевую гипотезу о том, что чеки в группе B распределены нормально.')"
   ]
  },
  {
   "cell_type": "markdown",
   "metadata": {},
   "source": [
    "Всё равно распределены ненормально, даже после удаления значительных выбросов. Для оценки стат.значимости различий нужен непараметрический тест."
   ]
  },
  {
   "cell_type": "markdown",
   "metadata": {},
   "source": [
    "#### Проверка значимости тестом Манна-Уитни"
   ]
  },
  {
   "cell_type": "markdown",
   "metadata": {},
   "source": [
    "* H0: после удаления выбросов чеки в группах А и В не различаются.\n",
    "* H1: после удаления выбросов чеки в группах А и В различаются."
   ]
  },
  {
   "cell_type": "code",
   "execution_count": 92,
   "metadata": {},
   "outputs": [
    {
     "name": "stdout",
     "output_type": "stream",
     "text": [
      "p-значение:  0.9661262576814433\n",
      "Не получилось отвергнуть нулевую гипотезу о том, что после удаления выбросов чеки в группах А и В не различаются. Вывод о различии средних чеков групп А и В сделать нельзя.\n"
     ]
    }
   ],
   "source": [
    "alpha = 0.05\n",
    "revenue_cut_mannwhitneyu = st.mannwhitneyu(orders_cut[orders_cut['group']=='A']['revenue'], \\\n",
    "                                           orders_cut[orders_cut['group']=='B']['revenue'], \\\n",
    "                                           alternative = 'two-sided')\n",
    "print('p-значение: ', revenue_cut_mannwhitneyu.pvalue)\n",
    "\n",
    "if revenue_cut_mannwhitneyu.pvalue < alpha:\n",
    "    print('Отвергаем нулевую гипотезу о том, что после удаления выбросов чеки в группах А и В не различаются: разница средних чеков статистически значима.')\n",
    "else:\n",
    "    print('Не получилось отвергнуть нулевую гипотезу о том, что после удаления выбросов чеки в группах А и В не различаются. Вывод о различии средних чеков групп А и В сделать нельзя.')"
   ]
  },
  {
   "cell_type": "markdown",
   "metadata": {},
   "source": [
    "#### Относительный прирост среднего чека группы B относительно среднего чека группы А"
   ]
  },
  {
   "cell_type": "code",
   "execution_count": 93,
   "metadata": {},
   "outputs": [
    {
     "name": "stdout",
     "output_type": "stream",
     "text": [
      "0.029\n"
     ]
    }
   ],
   "source": [
    "relative_mean_revenue_cut = (orders_cut[orders_cut['group']=='B']['revenue'].mean()/orders_cut[orders_cut['group']=='A']['revenue'].mean()-1)\n",
    "print('{0:.3f}'.format(relative_mean_revenue_cut))"
   ]
  },
  {
   "cell_type": "markdown",
   "metadata": {},
   "source": [
    "Относительный прирост среднего чека группы B относительно среднего чека группы А после удаления выбросов упал на порядок. Установив с помощью теста Шапиро-Уилка, что распределение чеков в обеих группах всё еще ненормально, для оценки стат.значимости различий использовали непараметрический тест Манна-Уитни, в результате которого установили, что это различие чеков групп А и В (превышение среднего чека группы В над средним чеком группы А на 2.9%) стат.значимым считать нельзя.\n",
    "\n",
    "И вот как раз после удаления выбросов мы видим, что тот прирост в 25.9% был вызван аномалиями. И весь этот анализ ещё раз показывает нам устойчивость критерия Манна-Уитни к аномалиям. Ведь ещё до удаления аномалий критерий говорил, что различий нет. А сейчас это подтверждается и небольшим расчётным различием в 2.9%."
   ]
  },
  {
   "cell_type": "markdown",
   "metadata": {},
   "source": [
    "### Различия в среднедневном чеке (*факультативно*)"
   ]
  },
  {
   "cell_type": "markdown",
   "metadata": {},
   "source": [
    "#### Проверка на нормальность распределения среднедневных чеков"
   ]
  },
  {
   "cell_type": "markdown",
   "metadata": {},
   "source": [
    "* H0: после очистки от выбросов среднедневные чеки в группе А распределены нормально.\n",
    "* H1: после очистки от выбросов среднедневные чеки в группе А распределены ненормально."
   ]
  },
  {
   "cell_type": "code",
   "execution_count": 94,
   "metadata": {},
   "outputs": [
    {
     "name": "stdout",
     "output_type": "stream",
     "text": [
      "p-значение:  0.07180290669202805\n",
      "Не получилось отвергнуть нулевую гипотезу о том, что после очистки от выбросов среднедневные чеки в группе А распределены нормально.\n"
     ]
    }
   ],
   "source": [
    "alpha = 0.05\n",
    "avgbill_shapiro_a_cut = st.shapiro(data_cut['avgbill_a'])\n",
    "p_value_avgbill_shapiro_a_cut = avgbill_shapiro_a_cut[1]\n",
    "\n",
    "print('p-значение: ', p_value_avgbill_shapiro_a_cut)\n",
    "\n",
    "if p_value_avgbill_shapiro_a_cut < alpha:\n",
    "        print('Отвергаем нулевую гипотезу о том, что после очистки от выбросов среднедневные чеки в группе А распределены нормально.')\n",
    "else:\n",
    "    print('Не получилось отвергнуть нулевую гипотезу о том, что после очистки от выбросов среднедневные чеки в группе А распределены нормально.')"
   ]
  },
  {
   "cell_type": "markdown",
   "metadata": {},
   "source": [
    "* H0: после очистки от выбросов среднедневные чеки в группе В распределены нормально.\n",
    "* H1: после очистки от выбросов среднедневные чеки в группе В распределены ненормально."
   ]
  },
  {
   "cell_type": "code",
   "execution_count": 95,
   "metadata": {},
   "outputs": [
    {
     "name": "stdout",
     "output_type": "stream",
     "text": [
      "p-значение:  0.09523002803325653\n",
      "Не получилось отвергнуть нулевую гипотезу о том, что после очистки от выбросов среднедневные чеки в группе В распределены нормально.\n"
     ]
    }
   ],
   "source": [
    "alpha = 0.05\n",
    "avgbill_shapiro_b_cut = st.shapiro(data_cut['avgbill_b'])\n",
    "p_value_avgbill_shapiro_b_cut = avgbill_shapiro_b_cut[1]\n",
    "\n",
    "print('p-значение: ', p_value_avgbill_shapiro_b_cut)\n",
    "\n",
    "if p_value_avgbill_shapiro_b_cut < alpha:\n",
    "    print('Отвергаем нулевую гипотезу о том, что после очистки от выбросов среднедневные чеки в группе В распределены нормально.')\n",
    "else:\n",
    "    print('Не получилось отвергнуть нулевую гипотезу о том, что после очистки от выбросов среднедневные чеки в группе В распределены нормально.')"
   ]
  },
  {
   "cell_type": "markdown",
   "metadata": {},
   "source": [
    "Для нормально распределенных средних чеков выбираем проверять значимость различий t-тестом."
   ]
  },
  {
   "cell_type": "markdown",
   "metadata": {},
   "source": [
    "#### Проверка значимости t-тестом"
   ]
  },
  {
   "cell_type": "markdown",
   "metadata": {},
   "source": [
    "Стьюдент или Уэлч?\n",
    "* H0 - после очистки от выбросов дисперсии выборок со среднедневными чеками равны.\n",
    "* H1 - после очистки от выбросов дисперсии выборок со среднедневными чеками не равны."
   ]
  },
  {
   "cell_type": "code",
   "execution_count": 96,
   "metadata": {},
   "outputs": [
    {
     "name": "stdout",
     "output_type": "stream",
     "text": [
      "p-значение: 0.8851843700115559\n",
      "Не получилось отвергнуть нулевую гипотезу о равенстве дисперсий выборок со среднедневными чеками после очистки от выбросов: применять тест Стьюдента.\n"
     ]
    }
   ],
   "source": [
    "alpha = 0.05\n",
    "avgbill_cut_levene = st.levene(data_cut['avgbill_a'], data_cut['avgbill_b'])\n",
    "print('p-значение:', avgbill_cut_levene.pvalue)\n",
    "if (avgbill_cut_levene.pvalue < alpha):\n",
    "    print(\"Отвергаем нулевую гипотезу о равенстве дисперсий выборок со среднедневными чеками после очистки от выбросов: применять тест Уэлча.\")\n",
    "else:\n",
    "    print(\"Не получилось отвергнуть нулевую гипотезу о равенстве дисперсий выборок со среднедневными чеками после очистки от выбросов: применять тест Стьюдента.\")"
   ]
  },
  {
   "cell_type": "markdown",
   "metadata": {},
   "source": [
    "Проверяем гипотезу о равенстве среднего двух генеральных совокупностей по взятым из них выборкам t-тестом:\n",
    "* H0 - после очистки от выбросов среднедневные чеки в группе А и группе B не различаются.\n",
    "* H1 - после очистки от выбросов среднедневные чеки в группе А и группе B различаются."
   ]
  },
  {
   "cell_type": "code",
   "execution_count": 97,
   "metadata": {},
   "outputs": [
    {
     "name": "stdout",
     "output_type": "stream",
     "text": [
      "p-значение: 0.7970744546634481\n",
      "Не получилось отвергнуть нулевую гипотезу о том, что после очистки от выбросов среднедневные  чеки в группе А и группе B не различаются.\n"
     ]
    }
   ],
   "source": [
    "alpha = 0.05\n",
    "avgbill_cut_ttest = st.ttest_ind(\n",
    "    data_cut['avgbill_a'], \n",
    "    data_cut['avgbill_b'],\n",
    "    equal_var = True)\n",
    "\n",
    "print('p-значение:', avgbill_cut_ttest.pvalue)\n",
    "\n",
    "if (avgbill_cut_ttest.pvalue < alpha):\n",
    "    print(\"Отвергаем нулевую гипотезу о том, что после очистки от выбросов среднедневные  чеки в группе А и группе B не различаются.\")\n",
    "else:\n",
    "    print(\"Не получилось отвергнуть нулевую гипотезу о том, что после очистки от выбросов среднедневные  чеки в группе А и группе B не различаются.\")"
   ]
  },
  {
   "cell_type": "markdown",
   "metadata": {},
   "source": [
    "#### Относительный прирост среднего от среднедневного чека группы B относительно среднего от среднедневного чека группы А"
   ]
  },
  {
   "cell_type": "code",
   "execution_count": 98,
   "metadata": {},
   "outputs": [
    {
     "name": "stdout",
     "output_type": "stream",
     "text": [
      "0.021\n"
     ]
    }
   ],
   "source": [
    "relative_mean_avgbill_cut = (data_cut['avgbill_b'].mean()/data_cut['avgbill_a'].mean())-1\n",
    "print('{0:.3f}'.format(relative_mean_avgbill_cut))"
   ]
  },
  {
   "cell_type": "markdown",
   "metadata": {},
   "source": [
    "Полученное значение p-value говорит о том, что различие 2.1% средних от среднедневных чеков групп В и А с вероятностью в почти 80% было получено случайно. После отсечения выбросов отношение средних среднедневных чеков сократилось на порядок, и статистически значимым это различие назвать нельзя."
   ]
  },
  {
   "cell_type": "markdown",
   "metadata": {},
   "source": [
    "###  Выводы по анализу А/В теста"
   ]
  },
  {
   "cell_type": "markdown",
   "metadata": {},
   "source": [
    "Представлены два датафрейма: `orders` и `visitors`.\n",
    "\n",
    "В датафрейме `orders` собраны данные о 1197 заказах пользователей за 31 день с 1 по 31 августа 2019 года, каждый заказ имеет индивидуальный идентификатор `transaction_id` (дубликатов нет), пользователи различаются по `visitor_id` (всего 1031 уникальный пользователь), в датафрейме могут быть несколько заказов от одного пользователя. По каждому заказа указана выручка за заказ.\n",
    "\n",
    "Пользователи разделены на группы А и В для А/В теста. При этом разделение произошло с ошибкой и 58 пользователей из 1031 (5.63%) попали одновременно в группу А и группу Б - в датафрейме `orders` 181 транзакция с пользователями, попавшими одновременно в разные группы (15.12% от числа всех транзакций), при этом не менее 20 заказов сделаны попавшими в разные группы пользователями в один и тот же день, что не позволяет \"починить им группу\" по группе, присвоенной в самую раннюю дату. По ошибкам сплитования подготовлен баг-репорт разработчикам и менеджеру продукта/проекта. В датафрейме orders в группе А числятся 503 пользователя, в группе B - 586 пользователей. Пользователи разделены на группы неравномерно.\n",
    "\n",
    "В датафрейме `visitors` представлено число пользователей в указанную дату за период 31 день с 01.08.19 по 31.08.19 в группе А и в группе В по результатам A/B-теста (62 строки). По обеим группам наблюдаются еженедельные проседания численности посетителей (в пятницы-субботы), иногда почти в два раза.\n",
    "\n",
    "Полагаем, что анализировать такие результаты мало смысла изначально - нужно выбрать закрыть тест, починить механизм разделения на группы и запустить новый.\n",
    "\n",
    "Не имеем возможности отсечь неоднозначных пользователей, попавших в обе группы теста, поскольку в датафрейме `visitors` с числом посетителей в день они не идентифицированы.\n",
    "\n",
    "С учебно-методической целью сделан анализ А/В теста по представленным данным, несмотря на имеющиеся в них вопиющие ошибки. \n",
    "\n",
    "Кумулятивная выручка группы А почти равномерно увеличивается в течение всего теста. Кумулятивная выручка группы В увеличивается значительнее А, начиная с 9 августа, а после 18 августа делает скачок более чем на 35% вверх и далее продолжает расти параллельно кумулятивной выручке группы А, но уже на уровне, превышающем А более, чем на треть.\n",
    "\n",
    "В начале месяца кумулятивные конверсии групп колебались практически параллельно - группа А доминировала, но после 6 августа конверсия группы В вырвалась вверх, далее колебалась, но всегда до конца месяца превосходила конверсию группы А, а конверсия группы А просела и после 13 августа зафиксировалась. Конверсия группы В немного припала после 21 августа и стала более стабильной.\n",
    "Относительный прирост конверсии группы В относительно группы А стабилизировался после 22 августа на уровне примерно 0.1.\n",
    "\n",
    "Установив с помощью теста Шапиро-Уилка, что распределение конверсий в обеих группах нормально, проверили значимость различий в них z-тестом: отвергли нулевую гипотезу о том, что конверсии в группах А и В не различаются, и пришли к выводу, что относительный прирост конверсии группы B относительно конверсии группы А в 13.8% является статистически значимым.\n",
    "\n",
    "Динамика кумулятивных средних чеков в группах А и В свидетельствует о том, что средний чек в группе В превосходил средний чек в группе А более, чем на треть, в большей части месяца, и после 18 августа был сильнейший скачок в стоимости заказов в группе В. В группе А средний чек более менее стабилизировался во второй половине месяца, в группе В средний чек продолжает серьезные флуктуации.\n",
    "\n",
    "Проверив с помощью теста Шапиро-Уилка, что в распределение чеков в обеих группах ненормально, для оценки стат.значимости различий использовали непараметрический тест Манна-Уитни: полученное значение p-value свидетельствует о том, что различие средних чеков (превышение среднего чека группы В над средним чеком группы А на 25.9% и больше) с вероятностью 73% было получено случайно. Различие в средних чеках не можем считать стат.значимым. \n",
    "\n",
    "По результатам анализа выбросов в количестве заказов на покупателя и в стоимости заказов:\n",
    "* аномальные покупатели определены как покупатели, которые заказали > 3 раз за рассматриваемый период (не более 2% от числа уникальных покупателей);\n",
    "* аномальные заказы определены как заказы дороже 44 тыс. ден.ед. (не более 2% от числа заказов).\n",
    "\n",
    "После отсечения выбросов, численность в группе В продолжает преобладать, в группе А - 478 покупателя, в группе В - 565 покупателей.\n",
    "\n",
    "Полагая распределение конверсий в обеих группах А/В теста после отсечения выбросов нормальным, проверили значимость различий в них z-тестом: по результатам теста отвергли нулевую гипотезу о том, что конверсии в группах А и В не различаются, и пришли к выводу о том, что относительный прирост конверсии группы B относительно конверсии группы А в 16.1% является статистически значимым.\n",
    "\n",
    "Относительный прирост среднего чека группы B относительно среднего чека группы А после удаления выбросов упал на порядок. Установив с помощью теста Шапиро-Уилка, что распределение чеков в обеих группах всё еще ненормально, для оценки стат.значимости различий использовали снова непараметрический тест Манна-Уитни, в результате которого установили, что это различие чеков групп А и В (превышение среднего чека группы В над средним чеком группы А на 2.9%) стат.значимым считать нельзя.\n",
    "\n",
    "Факультативно проанализировали среднедневные чеки в группах А и В:\n",
    "\n",
    "Проверив с помощью теста Шапиро-Уилка, что в распределение среднедневных чеков в обеих группах ненормально, для оценки стат.значимости различий использовали тест Манна-Уитни, по результатам которого установили, что различие средних среднедневных чеков (превышение среднедневного чека группы В над среднедневным чеком группы А на 24.4%) нельзя считать стат.значимым.\n",
    "\n",
    "После отсечения выбросов обнаружили, что среднедневные чеки в группах А и В распределены уже нормально, выбрали проверять значимость различий в них t-тестом. Установив с помощью критерия Левене равенство дисперсий выборок со среднедневными чеками, применили t-тест Стьюдента, в результате которого сделали вывод о том , что различие среднедневных чеков групп А и В (превышение среднего среднедневного чека группы В над средним среднедневным чеком группы А на 2.1%) стат.значимым считать нельзя.\n",
    "\n",
    "Основной показатель, который важен для бизнеса - это выручка.\n",
    "\n",
    "СР.ЧЕК = ВЫРУЧКА / ПОКУПКИ => ВЫРУЧКА = ПОКУПКИ * СР.ЧЕК\n",
    "\n",
    "КОНВЕРСИЯ = ПОКУПКИ / ПОСЕЩЕНИЯ => ПОКУПКИ = ПОСЕЩЕНИЯ * КОНВЕРСИЯ \n",
    "\n",
    "=> ВЫРУЧКА = ПОСЕЩЕНИЯ * КОНВЕРСИЯ * СР.ЧЕК\n",
    "\n",
    "Конверсия и средний чек напрямую влияют на выручку. Следовательно, при росте конверсии (который подтверждён стат тестами) и равенстве среднего чека (о котором также говорят тесты) мы получаем бОльшую выручку в группе B, чем в группе A.\n",
    "\n",
    "Таким образом, если бы механизм разбиения на группы не откладывал отпечаток, группа B была бы признана лидером.\n",
    "\n",
    "РЕШЕНИЕ по анализу результатов А/В теста:\n",
    "\n",
    "остановить тест, починить механизм разделения на группы и запустить новый."
   ]
  }
 ],
 "metadata": {
  "kernelspec": {
   "display_name": "Python 3",
   "language": "python",
   "name": "python3"
  },
  "language_info": {
   "codemirror_mode": {
    "name": "ipython",
    "version": 3
   },
   "file_extension": ".py",
   "mimetype": "text/x-python",
   "name": "python",
   "nbconvert_exporter": "python",
   "pygments_lexer": "ipython3",
   "version": "3.8.8"
  },
  "toc": {
   "base_numbering": 1,
   "nav_menu": {
    "height": "183px",
    "width": "199px"
   },
   "number_sections": true,
   "sideBar": true,
   "skip_h1_title": true,
   "title_cell": "Анализ A/B теста по метрикам конверсии и среднего чека",
   "title_sidebar": "Оглавление",
   "toc_cell": true,
   "toc_position": {
    "height": "calc(100% - 180px)",
    "left": "10px",
    "top": "150px",
    "width": "419.667px"
   },
   "toc_section_display": true,
   "toc_window_display": true
  }
 },
 "nbformat": 4,
 "nbformat_minor": 2
}
